{
 "cells": [
  {
   "cell_type": "markdown",
   "id": "003b1bba-da21-4891-bd49-53628ce188d1",
   "metadata": {},
   "source": [
    "# ANALYSIS DATASET FROM TESISQUARE\n",
    "\n",
    "first of all we are going to import every library that we'll need during the project"
   ]
  },
  {
   "cell_type": "code",
   "execution_count": 24,
   "id": "0ee3b7c4-934f-41c6-b21e-c5ad903be1bc",
   "metadata": {},
   "outputs": [],
   "source": [
    "'''\n",
    "Libraries versions\n",
    "\n",
    "pandas: 2.2.3\n",
    "numpy: 2.2.2\n",
    "seaborn 0.13.2\n",
    "matplotlib: 3.10.0\n",
    "scikit-learn: 1.6.1\n",
    "geopy: 2.4.1\n",
    "tqdm: 4.67.1\n",
    "requests: 2.32.3\n",
    "folium: 0.19.4\n",
    "'''\n",
    "\n",
    "import pandas as pd\n",
    "import numpy as np\n",
    "import seaborn as sns\n",
    "import matplotlib.pyplot as plt\n",
    "from sklearn.linear_model import LinearRegression\n",
    "from sklearn.model_selection import train_test_split\n",
    "from sklearn.ensemble import RandomForestRegressor\n",
    "from sklearn.preprocessing import LabelEncoder, StandardScaler\n",
    "from sklearn.impute import SimpleImputer\n",
    "from sklearn.pipeline import Pipeline\n",
    "from sklearn.compose import ColumnTransformer\n",
    "from sklearn.ensemble import RandomForestClassifier\n",
    "from sklearn.metrics import accuracy_score, classification_report\n",
    "from sklearn.base import BaseEstimator, TransformerMixin\n",
    "from sklearn.ensemble import GradientBoostingRegressor\n",
    "from sklearn.metrics import r2_score\n",
    "from geopy.geocoders import Nominatim\n",
    "from typing import Optional, Tuple\n",
    "from tqdm import tqdm\n",
    "import requests\n",
    "import mpu\n",
    "import os\n",
    "import json\n",
    "import warnings\n",
    "import requests\n",
    "from datetime import datetime, timedelta\n",
    "import csv\n",
    "from geopy.distance import geodesic\n",
    "import folium\n",
    "import time\n"
   ]
  },
  {
   "cell_type": "markdown",
   "id": "c39adfa8-e61f-4822-b076-7fea655f3923",
   "metadata": {},
   "source": [
    "## Reading and checking information about the file"
   ]
  },
  {
   "cell_type": "code",
   "execution_count": 4,
   "id": "b2d15bf1-f8b2-4d3d-be65-bc9c14a5e764",
   "metadata": {},
   "outputs": [
    {
     "name": "stdout",
     "output_type": "stream",
     "text": [
      "<class 'pandas.core.frame.DataFrame'>\n",
      "RangeIndex: 14554 entries, 0 to 14553\n",
      "Data columns (total 15 columns):\n",
      " #   Column                Non-Null Count  Dtype  \n",
      "---  ------                --------------  -----  \n",
      " 0   Unnamed: 0            14554 non-null  int64  \n",
      " 1   SERVICETYPE           14340 non-null  object \n",
      " 2   VEHICLETYPE           14331 non-null  object \n",
      " 3   DEPARTURE_COUNTRY     14554 non-null  object \n",
      " 4   DEPARTURE_ZIPCODE     14548 non-null  float64\n",
      " 5   ARRIVAL_COUNTRY       14554 non-null  object \n",
      " 6   ARRIVAL_ZIPCODE       14554 non-null  int64  \n",
      " 7   SHIPPING_DATE         14554 non-null  object \n",
      " 8   GROSS_WEIGHT_KG       14554 non-null  float64\n",
      " 9   NET_WEIGHT_KG         14554 non-null  float64\n",
      " 10  VOLUME_M3             14554 non-null  float64\n",
      " 11  DECLARED_DISTANCE_KM  11577 non-null  float64\n",
      " 12  ACTUAL_DELIVERY_DATE  14554 non-null  object \n",
      " 13  DELIVERY_TIME_HH      14554 non-null  int64  \n",
      " 14  WDAY                  14554 non-null  int64  \n",
      "dtypes: float64(5), int64(4), object(6)\n",
      "memory usage: 1.7+ MB\n"
     ]
    }
   ],
   "source": [
    "# Loading the dataset from a CSV file\n",
    "data = pd.read_csv(\"./delivery_data.csv\")\n",
    "\n",
    "# Displaying dataset information (column types, non-null values, etc.)\n",
    "data.info()"
   ]
  },
  {
   "cell_type": "markdown",
   "id": "dcce9a42-05f0-4f83-97e9-d515cc323b4e",
   "metadata": {},
   "source": [
    "First let’s see how many rows and columns our dataset is made up of. Next we look at what kind of features there are and check if there are columns with missing data."
   ]
  },
  {
   "cell_type": "code",
   "execution_count": 5,
   "id": "25c43dac-b978-4a5c-9cd1-d27f98caedf7",
   "metadata": {},
   "outputs": [
    {
     "data": {
      "text/html": [
       "<div>\n",
       "<style scoped>\n",
       "    .dataframe tbody tr th:only-of-type {\n",
       "        vertical-align: middle;\n",
       "    }\n",
       "\n",
       "    .dataframe tbody tr th {\n",
       "        vertical-align: top;\n",
       "    }\n",
       "\n",
       "    .dataframe thead th {\n",
       "        text-align: right;\n",
       "    }\n",
       "</style>\n",
       "<table border=\"1\" class=\"dataframe\">\n",
       "  <thead>\n",
       "    <tr style=\"text-align: right;\">\n",
       "      <th></th>\n",
       "      <th>Unnamed: 0</th>\n",
       "      <th>DEPARTURE_ZIPCODE</th>\n",
       "      <th>ARRIVAL_ZIPCODE</th>\n",
       "      <th>GROSS_WEIGHT_KG</th>\n",
       "      <th>NET_WEIGHT_KG</th>\n",
       "      <th>VOLUME_M3</th>\n",
       "      <th>DECLARED_DISTANCE_KM</th>\n",
       "      <th>DELIVERY_TIME_HH</th>\n",
       "      <th>WDAY</th>\n",
       "    </tr>\n",
       "  </thead>\n",
       "  <tbody>\n",
       "    <tr>\n",
       "      <th>count</th>\n",
       "      <td>14554.000000</td>\n",
       "      <td>14548.000000</td>\n",
       "      <td>14554.000000</td>\n",
       "      <td>14554.000000</td>\n",
       "      <td>14554.000000</td>\n",
       "      <td>14554.000000</td>\n",
       "      <td>11577.000000</td>\n",
       "      <td>14554.000000</td>\n",
       "      <td>14554.000000</td>\n",
       "    </tr>\n",
       "    <tr>\n",
       "      <th>mean</th>\n",
       "      <td>7277.500000</td>\n",
       "      <td>53013.321694</td>\n",
       "      <td>41699.581352</td>\n",
       "      <td>9.744264</td>\n",
       "      <td>8.002172</td>\n",
       "      <td>0.188305</td>\n",
       "      <td>352.646287</td>\n",
       "      <td>75.783633</td>\n",
       "      <td>1.730177</td>\n",
       "    </tr>\n",
       "    <tr>\n",
       "      <th>std</th>\n",
       "      <td>4201.522244</td>\n",
       "      <td>22512.124864</td>\n",
       "      <td>30222.758997</td>\n",
       "      <td>34.946037</td>\n",
       "      <td>31.718243</td>\n",
       "      <td>0.983377</td>\n",
       "      <td>166.566613</td>\n",
       "      <td>79.110044</td>\n",
       "      <td>1.507748</td>\n",
       "    </tr>\n",
       "    <tr>\n",
       "      <th>min</th>\n",
       "      <td>1.000000</td>\n",
       "      <td>12.000000</td>\n",
       "      <td>10.000000</td>\n",
       "      <td>0.020000</td>\n",
       "      <td>0.000000</td>\n",
       "      <td>0.000000</td>\n",
       "      <td>0.640000</td>\n",
       "      <td>-1344.000000</td>\n",
       "      <td>0.000000</td>\n",
       "    </tr>\n",
       "    <tr>\n",
       "      <th>25%</th>\n",
       "      <td>3639.250000</td>\n",
       "      <td>56122.750000</td>\n",
       "      <td>17031.000000</td>\n",
       "      <td>1.000000</td>\n",
       "      <td>0.000000</td>\n",
       "      <td>0.010000</td>\n",
       "      <td>223.850000</td>\n",
       "      <td>37.000000</td>\n",
       "      <td>0.000000</td>\n",
       "    </tr>\n",
       "    <tr>\n",
       "      <th>50%</th>\n",
       "      <td>7277.500000</td>\n",
       "      <td>63076.000000</td>\n",
       "      <td>35042.000000</td>\n",
       "      <td>1.370000</td>\n",
       "      <td>0.000000</td>\n",
       "      <td>0.010000</td>\n",
       "      <td>353.190000</td>\n",
       "      <td>71.000000</td>\n",
       "      <td>1.000000</td>\n",
       "    </tr>\n",
       "    <tr>\n",
       "      <th>75%</th>\n",
       "      <td>10915.750000</td>\n",
       "      <td>63076.000000</td>\n",
       "      <td>66020.000000</td>\n",
       "      <td>3.160000</td>\n",
       "      <td>2.280000</td>\n",
       "      <td>0.110000</td>\n",
       "      <td>468.690000</td>\n",
       "      <td>108.000000</td>\n",
       "      <td>3.000000</td>\n",
       "    </tr>\n",
       "    <tr>\n",
       "      <th>max</th>\n",
       "      <td>14554.000000</td>\n",
       "      <td>99208.000000</td>\n",
       "      <td>99518.000000</td>\n",
       "      <td>1039.820000</td>\n",
       "      <td>948.840000</td>\n",
       "      <td>105.000000</td>\n",
       "      <td>1090.610000</td>\n",
       "      <td>1920.000000</td>\n",
       "      <td>6.000000</td>\n",
       "    </tr>\n",
       "  </tbody>\n",
       "</table>\n",
       "</div>"
      ],
      "text/plain": [
       "         Unnamed: 0  DEPARTURE_ZIPCODE  ARRIVAL_ZIPCODE  GROSS_WEIGHT_KG  \\\n",
       "count  14554.000000       14548.000000     14554.000000     14554.000000   \n",
       "mean    7277.500000       53013.321694     41699.581352         9.744264   \n",
       "std     4201.522244       22512.124864     30222.758997        34.946037   \n",
       "min        1.000000          12.000000        10.000000         0.020000   \n",
       "25%     3639.250000       56122.750000     17031.000000         1.000000   \n",
       "50%     7277.500000       63076.000000     35042.000000         1.370000   \n",
       "75%    10915.750000       63076.000000     66020.000000         3.160000   \n",
       "max    14554.000000       99208.000000     99518.000000      1039.820000   \n",
       "\n",
       "       NET_WEIGHT_KG     VOLUME_M3  DECLARED_DISTANCE_KM  DELIVERY_TIME_HH  \\\n",
       "count   14554.000000  14554.000000          11577.000000      14554.000000   \n",
       "mean        8.002172      0.188305            352.646287         75.783633   \n",
       "std        31.718243      0.983377            166.566613         79.110044   \n",
       "min         0.000000      0.000000              0.640000      -1344.000000   \n",
       "25%         0.000000      0.010000            223.850000         37.000000   \n",
       "50%         0.000000      0.010000            353.190000         71.000000   \n",
       "75%         2.280000      0.110000            468.690000        108.000000   \n",
       "max       948.840000    105.000000           1090.610000       1920.000000   \n",
       "\n",
       "               WDAY  \n",
       "count  14554.000000  \n",
       "mean       1.730177  \n",
       "std        1.507748  \n",
       "min        0.000000  \n",
       "25%        0.000000  \n",
       "50%        1.000000  \n",
       "75%        3.000000  \n",
       "max        6.000000  "
      ]
     },
     "execution_count": 5,
     "metadata": {},
     "output_type": "execute_result"
    }
   ],
   "source": [
    "# Displaying summary statistics of the dataset\n",
    "data.describe()"
   ]
  },
  {
   "cell_type": "markdown",
   "id": "87acc16b-dbb4-4c05-b992-3f1dba1601f4",
   "metadata": {},
   "source": [
    "We check the file values and see what average value they have "
   ]
  },
  {
   "cell_type": "markdown",
   "id": "7ced0579-af95-4b9e-a092-092bb4955f25",
   "metadata": {},
   "source": [
    "## Division of the dataset by service type\n",
    "\n",
    "Looking at the dataset, we decided to split the dataset into different csv files to work with them individually"
   ]
  },
  {
   "cell_type": "code",
   "execution_count": 9,
   "id": "439ff878-1f19-43c5-87ac-7c5937a7c86a",
   "metadata": {},
   "outputs": [
    {
     "name": "stdout",
     "output_type": "stream",
     "text": [
      "Statistics of the generated files:\n",
      "\n",
      "Rows in corrieri file: 2875\n",
      "Rows in gomma transport file: 1863\n",
      "Rows in e-commerce file: 9028\n",
      "\n",
      "Rows removed due to NaN in SERVICETYPE: 214\n",
      "Rows removed due to IT-US shipments: 574\n"
     ]
    }
   ],
   "source": [
    "# Read the original CSV file\n",
    "df = pd.read_csv('delivery_data.csv')\n",
    "\n",
    "# Count rows with NaN in SERVICETYPE before removing them\n",
    "nan_count = df['SERVICETYPE'].isna().sum()\n",
    "\n",
    "# Remove rows with NaN in SERVICETYPE\n",
    "df = df.dropna(subset=['SERVICETYPE'])\n",
    "\n",
    "# Count IT-US shipments before removing them\n",
    "it_us_count = (\n",
    "    ((df['DEPARTURE_COUNTRY'] == 'IT') & (df['ARRIVAL_COUNTRY'] == 'US')) | \n",
    "    ((df['DEPARTURE_COUNTRY'] == 'US') & (df['ARRIVAL_COUNTRY'] == 'IT'))\n",
    ").sum()\n",
    "\n",
    "# Remove shipments between IT and US in both directions\n",
    "mask_it_us = ~(\n",
    "    ((df['DEPARTURE_COUNTRY'] == 'IT') & (df['ARRIVAL_COUNTRY'] == 'US')) | \n",
    "    ((df['DEPARTURE_COUNTRY'] == 'US') & (df['ARRIVAL_COUNTRY'] == 'IT'))\n",
    ")\n",
    "df = df[mask_it_us]\n",
    "\n",
    "# Create three separate DataFrames based on SERVICETYPE\n",
    "# 1. Express Couriers\n",
    "couriers_df = df[df['SERVICETYPE'].isin(['Corriere espresso', 'Corriere espresso resi'])]\n",
    "\n",
    "# 2. Road Transport\n",
    "road_df = df[df['SERVICETYPE'] == 'Via gomma']\n",
    "\n",
    "# 3. E-commerce\n",
    "ecommerce_df = df[df['SERVICETYPE'].isin(['E-commerce', 'E-commerce Resi'])]\n",
    "\n",
    "# Save the DataFrames to separate CSV files\n",
    "couriers_df.to_csv('corrieri_data.csv', index=False)\n",
    "road_df.to_csv('gomma_data.csv', index=False)\n",
    "ecommerce_df.to_csv('ecommerce_data.csv', index=False)\n",
    "\n",
    "# Print detailed statistics\n",
    "print(\"Statistics of the generated files:\")\n",
    "print(f\"\\nRows in corrieri file: {len(couriers_df)}\")\n",
    "print(f\"Rows in gomma transport file: {len(road_df)}\")\n",
    "print(f\"Rows in e-commerce file: {len(ecommerce_df)}\")\n",
    "\n",
    "# Print removed rows count\n",
    "print(f\"\\nRows removed due to NaN in SERVICETYPE: {nan_count}\")\n",
    "print(f\"Rows removed due to IT-US shipments: {it_us_count}\")"
   ]
  },
  {
   "cell_type": "markdown",
   "id": "e64bf81a-06cd-45f1-a610-715cccbda772",
   "metadata": {},
   "source": [
    "## Let's calculate the missing values for the distance in km"
   ]
  },
  {
   "cell_type": "code",
   "execution_count": 12,
   "id": "fee524dc-e104-4167-a552-662ab21b75c5",
   "metadata": {},
   "outputs": [
    {
     "name": "stdout",
     "output_type": "stream",
     "text": [
      "\n",
      "Processing gomma_data.csv...\n"
     ]
    },
    {
     "name": "stderr",
     "output_type": "stream",
     "text": [
      "Processing gomma_data.csv: 0it [00:00, ?it/s]\n"
     ]
    },
    {
     "name": "stdout",
     "output_type": "stream",
     "text": [
      "\n",
      "--- Statistics for gomma_data.csv after 0 processed rows ---\n",
      "Successful lookups: 0 (0.00%)\n",
      "Failed lookups: 0 (0.00%)\n",
      "------------------------------------------------\n",
      "\n",
      "Processing completed for gomma_data.csv\n",
      "\n",
      "Processing corrieri_data.csv...\n"
     ]
    },
    {
     "name": "stderr",
     "output_type": "stream",
     "text": [
      "Processing corrieri_data.csv: 0it [00:00, ?it/s]\n"
     ]
    },
    {
     "name": "stdout",
     "output_type": "stream",
     "text": [
      "\n",
      "--- Statistics for corrieri_data.csv after 0 processed rows ---\n",
      "Successful lookups: 0 (0.00%)\n",
      "Failed lookups: 0 (0.00%)\n",
      "------------------------------------------------\n",
      "\n",
      "Processing completed for corrieri_data.csv\n",
      "\n",
      "Processing ecommerce_data.csv...\n"
     ]
    },
    {
     "name": "stderr",
     "output_type": "stream",
     "text": [
      "Processing ecommerce_data.csv:   0%|          | 1/305 [00:06<34:42,  6.85s/it]"
     ]
    },
    {
     "name": "stdout",
     "output_type": "stream",
     "text": [
      "Unable to find distance for row 28\n"
     ]
    },
    {
     "name": "stderr",
     "output_type": "stream",
     "text": [
      "Processing ecommerce_data.csv:   1%|          | 2/305 [00:14<35:51,  7.10s/it]"
     ]
    },
    {
     "name": "stdout",
     "output_type": "stream",
     "text": [
      "Unable to find distance for row 84\n"
     ]
    },
    {
     "name": "stderr",
     "output_type": "stream",
     "text": [
      "Processing ecommerce_data.csv:   1%|          | 3/305 [00:21<35:15,  7.00s/it]"
     ]
    },
    {
     "name": "stdout",
     "output_type": "stream",
     "text": [
      "Unable to find distance for row 91\n"
     ]
    },
    {
     "name": "stderr",
     "output_type": "stream",
     "text": [
      "Processing ecommerce_data.csv:   1%|▏         | 4/305 [00:28<35:13,  7.02s/it]"
     ]
    },
    {
     "name": "stdout",
     "output_type": "stream",
     "text": [
      "Unable to find distance for row 314\n"
     ]
    },
    {
     "name": "stderr",
     "output_type": "stream",
     "text": [
      "Processing ecommerce_data.csv:   2%|▏         | 5/305 [00:34<34:55,  6.98s/it]"
     ]
    },
    {
     "name": "stdout",
     "output_type": "stream",
     "text": [
      "Unable to find distance for row 341\n"
     ]
    },
    {
     "name": "stderr",
     "output_type": "stream",
     "text": [
      "Processing ecommerce_data.csv:   2%|▏         | 6/305 [00:42<34:59,  7.02s/it]"
     ]
    },
    {
     "name": "stdout",
     "output_type": "stream",
     "text": [
      "Unable to find distance for row 357\n"
     ]
    },
    {
     "name": "stderr",
     "output_type": "stream",
     "text": [
      "Processing ecommerce_data.csv:   2%|▏         | 7/305 [00:49<34:53,  7.02s/it]"
     ]
    },
    {
     "name": "stdout",
     "output_type": "stream",
     "text": [
      "Unable to find distance for row 358\n"
     ]
    },
    {
     "name": "stderr",
     "output_type": "stream",
     "text": [
      "Processing ecommerce_data.csv:   3%|▎         | 9/305 [00:59<31:03,  6.30s/it]"
     ]
    },
    {
     "name": "stdout",
     "output_type": "stream",
     "text": [
      "Unable to find distance for row 477\n"
     ]
    },
    {
     "name": "stderr",
     "output_type": "stream",
     "text": [
      "Processing ecommerce_data.csv:   3%|▎         | 10/305 [01:06<31:51,  6.48s/it]"
     ]
    },
    {
     "name": "stdout",
     "output_type": "stream",
     "text": [
      "Unable to find distance for row 478\n"
     ]
    },
    {
     "name": "stderr",
     "output_type": "stream",
     "text": [
      "Processing ecommerce_data.csv:   4%|▎         | 11/305 [01:13<32:36,  6.66s/it]"
     ]
    },
    {
     "name": "stdout",
     "output_type": "stream",
     "text": [
      "Unable to find distance for row 479\n"
     ]
    },
    {
     "name": "stderr",
     "output_type": "stream",
     "text": [
      "Processing ecommerce_data.csv:   4%|▍         | 12/305 [01:20<33:12,  6.80s/it]"
     ]
    },
    {
     "name": "stdout",
     "output_type": "stream",
     "text": [
      "Unable to find distance for row 515\n"
     ]
    },
    {
     "name": "stderr",
     "output_type": "stream",
     "text": [
      "Processing ecommerce_data.csv:   4%|▍         | 13/305 [01:27<33:09,  6.81s/it]"
     ]
    },
    {
     "name": "stdout",
     "output_type": "stream",
     "text": [
      "Unable to find distance for row 525\n"
     ]
    },
    {
     "name": "stderr",
     "output_type": "stream",
     "text": [
      "Processing ecommerce_data.csv:   5%|▍         | 14/305 [01:34<33:48,  6.97s/it]"
     ]
    },
    {
     "name": "stdout",
     "output_type": "stream",
     "text": [
      "Unable to find distance for row 540\n"
     ]
    },
    {
     "name": "stderr",
     "output_type": "stream",
     "text": [
      "Processing ecommerce_data.csv:   5%|▍         | 15/305 [01:42<35:31,  7.35s/it]"
     ]
    },
    {
     "name": "stdout",
     "output_type": "stream",
     "text": [
      "Unable to find distance for row 544\n"
     ]
    },
    {
     "name": "stderr",
     "output_type": "stream",
     "text": [
      "Processing ecommerce_data.csv:   5%|▌         | 16/305 [01:49<34:37,  7.19s/it]"
     ]
    },
    {
     "name": "stdout",
     "output_type": "stream",
     "text": [
      "Unable to find distance for row 1055\n"
     ]
    },
    {
     "name": "stderr",
     "output_type": "stream",
     "text": [
      "Processing ecommerce_data.csv:   6%|▌         | 17/305 [01:56<33:56,  7.07s/it]"
     ]
    },
    {
     "name": "stdout",
     "output_type": "stream",
     "text": [
      "Unable to find distance for row 1219\n"
     ]
    },
    {
     "name": "stderr",
     "output_type": "stream",
     "text": [
      "Processing ecommerce_data.csv:   6%|▌         | 18/305 [02:03<33:31,  7.01s/it]"
     ]
    },
    {
     "name": "stdout",
     "output_type": "stream",
     "text": [
      "Unable to find distance for row 1706\n"
     ]
    },
    {
     "name": "stderr",
     "output_type": "stream",
     "text": [
      "Processing ecommerce_data.csv:   6%|▌         | 19/305 [02:11<35:00,  7.34s/it]"
     ]
    },
    {
     "name": "stdout",
     "output_type": "stream",
     "text": [
      "Unable to find distance for row 1747\n"
     ]
    },
    {
     "name": "stderr",
     "output_type": "stream",
     "text": [
      "Processing ecommerce_data.csv:   7%|▋         | 20/305 [02:18<34:23,  7.24s/it]"
     ]
    },
    {
     "name": "stdout",
     "output_type": "stream",
     "text": [
      "Unable to find distance for row 2279\n"
     ]
    },
    {
     "name": "stderr",
     "output_type": "stream",
     "text": [
      "Processing ecommerce_data.csv:   7%|▋         | 21/305 [02:25<34:48,  7.35s/it]"
     ]
    },
    {
     "name": "stdout",
     "output_type": "stream",
     "text": [
      "Unable to find distance for row 2322\n"
     ]
    },
    {
     "name": "stderr",
     "output_type": "stream",
     "text": [
      "Processing ecommerce_data.csv:   7%|▋         | 22/305 [02:32<34:06,  7.23s/it]"
     ]
    },
    {
     "name": "stdout",
     "output_type": "stream",
     "text": [
      "Unable to find distance for row 2429\n"
     ]
    },
    {
     "name": "stderr",
     "output_type": "stream",
     "text": [
      "Processing ecommerce_data.csv:   8%|▊         | 23/305 [02:40<33:52,  7.21s/it]"
     ]
    },
    {
     "name": "stdout",
     "output_type": "stream",
     "text": [
      "Unable to find distance for row 2486\n"
     ]
    },
    {
     "name": "stderr",
     "output_type": "stream",
     "text": [
      "Processing ecommerce_data.csv:   8%|▊         | 24/305 [02:46<33:13,  7.10s/it]"
     ]
    },
    {
     "name": "stdout",
     "output_type": "stream",
     "text": [
      "Unable to find distance for row 3220\n"
     ]
    },
    {
     "name": "stderr",
     "output_type": "stream",
     "text": [
      "Processing ecommerce_data.csv:   8%|▊         | 25/305 [02:53<32:52,  7.04s/it]"
     ]
    },
    {
     "name": "stdout",
     "output_type": "stream",
     "text": [
      "Unable to find distance for row 3238\n"
     ]
    },
    {
     "name": "stderr",
     "output_type": "stream",
     "text": [
      "Processing ecommerce_data.csv:   9%|▊         | 26/305 [03:00<32:47,  7.05s/it]"
     ]
    },
    {
     "name": "stdout",
     "output_type": "stream",
     "text": [
      "Unable to find distance for row 3265\n"
     ]
    },
    {
     "name": "stderr",
     "output_type": "stream",
     "text": [
      "Processing ecommerce_data.csv:   9%|▉         | 27/305 [03:07<32:35,  7.03s/it]"
     ]
    },
    {
     "name": "stdout",
     "output_type": "stream",
     "text": [
      "Unable to find distance for row 3270\n"
     ]
    },
    {
     "name": "stderr",
     "output_type": "stream",
     "text": [
      "Processing ecommerce_data.csv:   9%|▉         | 28/305 [03:15<33:37,  7.28s/it]"
     ]
    },
    {
     "name": "stdout",
     "output_type": "stream",
     "text": [
      "Unable to find distance for row 3709\n"
     ]
    },
    {
     "name": "stderr",
     "output_type": "stream",
     "text": [
      "Processing ecommerce_data.csv:  10%|▉         | 29/305 [03:22<33:02,  7.18s/it]"
     ]
    },
    {
     "name": "stdout",
     "output_type": "stream",
     "text": [
      "Unable to find distance for row 3720\n"
     ]
    },
    {
     "name": "stderr",
     "output_type": "stream",
     "text": [
      "Processing ecommerce_data.csv:  10%|▉         | 30/305 [03:29<32:26,  7.08s/it]"
     ]
    },
    {
     "name": "stdout",
     "output_type": "stream",
     "text": [
      "Unable to find distance for row 3785\n"
     ]
    },
    {
     "name": "stderr",
     "output_type": "stream",
     "text": [
      "Processing ecommerce_data.csv:  10%|█         | 31/305 [03:36<32:16,  7.07s/it]"
     ]
    },
    {
     "name": "stdout",
     "output_type": "stream",
     "text": [
      "Unable to find distance for row 3791\n"
     ]
    },
    {
     "name": "stderr",
     "output_type": "stream",
     "text": [
      "Processing ecommerce_data.csv:  10%|█         | 32/305 [03:43<31:54,  7.01s/it]"
     ]
    },
    {
     "name": "stdout",
     "output_type": "stream",
     "text": [
      "Unable to find distance for row 4066\n"
     ]
    },
    {
     "name": "stderr",
     "output_type": "stream",
     "text": [
      "Processing ecommerce_data.csv:  11%|█         | 33/305 [03:50<31:29,  6.95s/it]"
     ]
    },
    {
     "name": "stdout",
     "output_type": "stream",
     "text": [
      "Unable to find distance for row 4117\n"
     ]
    },
    {
     "name": "stderr",
     "output_type": "stream",
     "text": [
      "Processing ecommerce_data.csv:  11%|█         | 34/305 [03:57<31:26,  6.96s/it]"
     ]
    },
    {
     "name": "stdout",
     "output_type": "stream",
     "text": [
      "Unable to find distance for row 4121\n"
     ]
    },
    {
     "name": "stderr",
     "output_type": "stream",
     "text": [
      "Processing ecommerce_data.csv:  11%|█▏        | 35/305 [04:04<31:29,  7.00s/it]"
     ]
    },
    {
     "name": "stdout",
     "output_type": "stream",
     "text": [
      "Unable to find distance for row 4144\n"
     ]
    },
    {
     "name": "stderr",
     "output_type": "stream",
     "text": [
      "Processing ecommerce_data.csv:  12%|█▏        | 36/305 [04:11<31:08,  6.95s/it]"
     ]
    },
    {
     "name": "stdout",
     "output_type": "stream",
     "text": [
      "Unable to find distance for row 4163\n"
     ]
    },
    {
     "name": "stderr",
     "output_type": "stream",
     "text": [
      "Processing ecommerce_data.csv:  12%|█▏        | 37/305 [04:18<31:13,  6.99s/it]"
     ]
    },
    {
     "name": "stdout",
     "output_type": "stream",
     "text": [
      "Unable to find distance for row 4593\n"
     ]
    },
    {
     "name": "stderr",
     "output_type": "stream",
     "text": [
      "Processing ecommerce_data.csv:  12%|█▏        | 38/305 [04:25<31:09,  7.00s/it]"
     ]
    },
    {
     "name": "stdout",
     "output_type": "stream",
     "text": [
      "Unable to find distance for row 4636\n"
     ]
    },
    {
     "name": "stderr",
     "output_type": "stream",
     "text": [
      "Processing ecommerce_data.csv:  13%|█▎        | 39/305 [04:32<30:48,  6.95s/it]"
     ]
    },
    {
     "name": "stdout",
     "output_type": "stream",
     "text": [
      "Unable to find distance for row 5060\n"
     ]
    },
    {
     "name": "stderr",
     "output_type": "stream",
     "text": [
      "Processing ecommerce_data.csv:  13%|█▎        | 40/305 [04:38<30:27,  6.90s/it]"
     ]
    },
    {
     "name": "stdout",
     "output_type": "stream",
     "text": [
      "Unable to find distance for row 5083\n"
     ]
    },
    {
     "name": "stderr",
     "output_type": "stream",
     "text": [
      "Processing ecommerce_data.csv:  13%|█▎        | 41/305 [04:45<30:11,  6.86s/it]"
     ]
    },
    {
     "name": "stdout",
     "output_type": "stream",
     "text": [
      "Unable to find distance for row 5103\n"
     ]
    },
    {
     "name": "stderr",
     "output_type": "stream",
     "text": [
      "Processing ecommerce_data.csv:  14%|█▍        | 42/305 [04:52<30:00,  6.85s/it]"
     ]
    },
    {
     "name": "stdout",
     "output_type": "stream",
     "text": [
      "Unable to find distance for row 5133\n"
     ]
    },
    {
     "name": "stderr",
     "output_type": "stream",
     "text": [
      "Processing ecommerce_data.csv:  14%|█▍        | 43/305 [04:59<30:18,  6.94s/it]"
     ]
    },
    {
     "name": "stdout",
     "output_type": "stream",
     "text": [
      "Unable to find distance for row 5212\n"
     ]
    },
    {
     "name": "stderr",
     "output_type": "stream",
     "text": [
      "Processing ecommerce_data.csv:  14%|█▍        | 44/305 [05:06<30:10,  6.94s/it]"
     ]
    },
    {
     "name": "stdout",
     "output_type": "stream",
     "text": [
      "Unable to find distance for row 5618\n"
     ]
    },
    {
     "name": "stderr",
     "output_type": "stream",
     "text": [
      "Processing ecommerce_data.csv:  15%|█▍        | 45/305 [05:13<29:59,  6.92s/it]"
     ]
    },
    {
     "name": "stdout",
     "output_type": "stream",
     "text": [
      "Unable to find distance for row 5630\n"
     ]
    },
    {
     "name": "stderr",
     "output_type": "stream",
     "text": [
      "Processing ecommerce_data.csv:  15%|█▌        | 46/305 [05:20<30:03,  6.96s/it]"
     ]
    },
    {
     "name": "stdout",
     "output_type": "stream",
     "text": [
      "Unable to find distance for row 5654\n"
     ]
    },
    {
     "name": "stderr",
     "output_type": "stream",
     "text": [
      "Processing ecommerce_data.csv:  15%|█▌        | 47/305 [05:27<30:14,  7.03s/it]"
     ]
    },
    {
     "name": "stdout",
     "output_type": "stream",
     "text": [
      "Unable to find distance for row 5668\n"
     ]
    },
    {
     "name": "stderr",
     "output_type": "stream",
     "text": [
      "Processing ecommerce_data.csv:  16%|█▌        | 48/305 [05:34<30:01,  7.01s/it]"
     ]
    },
    {
     "name": "stdout",
     "output_type": "stream",
     "text": [
      "Unable to find distance for row 5942\n"
     ]
    },
    {
     "name": "stderr",
     "output_type": "stream",
     "text": [
      "Processing ecommerce_data.csv:  16%|█▌        | 49/305 [05:41<29:43,  6.97s/it]"
     ]
    },
    {
     "name": "stdout",
     "output_type": "stream",
     "text": [
      "Unable to find distance for row 6181\n"
     ]
    },
    {
     "name": "stderr",
     "output_type": "stream",
     "text": [
      "Processing ecommerce_data.csv:  16%|█▋        | 50/305 [05:48<29:24,  6.92s/it]"
     ]
    },
    {
     "name": "stdout",
     "output_type": "stream",
     "text": [
      "Unable to find distance for row 6237\n"
     ]
    },
    {
     "name": "stderr",
     "output_type": "stream",
     "text": [
      "Processing ecommerce_data.csv:  17%|█▋        | 51/305 [05:55<29:15,  6.91s/it]"
     ]
    },
    {
     "name": "stdout",
     "output_type": "stream",
     "text": [
      "Unable to find distance for row 6243\n"
     ]
    },
    {
     "name": "stderr",
     "output_type": "stream",
     "text": [
      "Processing ecommerce_data.csv:  17%|█▋        | 52/305 [06:02<29:12,  6.93s/it]"
     ]
    },
    {
     "name": "stdout",
     "output_type": "stream",
     "text": [
      "Unable to find distance for row 6504\n"
     ]
    },
    {
     "name": "stderr",
     "output_type": "stream",
     "text": [
      "Processing ecommerce_data.csv:  17%|█▋        | 53/305 [06:09<29:15,  6.96s/it]"
     ]
    },
    {
     "name": "stdout",
     "output_type": "stream",
     "text": [
      "Unable to find distance for row 6524\n"
     ]
    },
    {
     "name": "stderr",
     "output_type": "stream",
     "text": [
      "Processing ecommerce_data.csv:  18%|█▊        | 54/305 [06:16<29:20,  7.01s/it]"
     ]
    },
    {
     "name": "stdout",
     "output_type": "stream",
     "text": [
      "Unable to find distance for row 6539\n"
     ]
    },
    {
     "name": "stderr",
     "output_type": "stream",
     "text": [
      "Processing ecommerce_data.csv:  18%|█▊        | 55/305 [06:23<29:04,  6.98s/it]"
     ]
    },
    {
     "name": "stdout",
     "output_type": "stream",
     "text": [
      "Unable to find distance for row 6546\n"
     ]
    },
    {
     "name": "stderr",
     "output_type": "stream",
     "text": [
      "Processing ecommerce_data.csv:  18%|█▊        | 56/305 [06:30<28:58,  6.98s/it]"
     ]
    },
    {
     "name": "stdout",
     "output_type": "stream",
     "text": [
      "Unable to find distance for row 6549\n"
     ]
    },
    {
     "name": "stderr",
     "output_type": "stream",
     "text": [
      "Processing ecommerce_data.csv:  19%|█▊        | 57/305 [06:37<29:19,  7.09s/it]"
     ]
    },
    {
     "name": "stdout",
     "output_type": "stream",
     "text": [
      "Unable to find distance for row 6609\n"
     ]
    },
    {
     "name": "stderr",
     "output_type": "stream",
     "text": [
      "Processing ecommerce_data.csv:  19%|█▉        | 58/305 [06:44<28:51,  7.01s/it]"
     ]
    },
    {
     "name": "stdout",
     "output_type": "stream",
     "text": [
      "Unable to find distance for row 6651\n"
     ]
    },
    {
     "name": "stderr",
     "output_type": "stream",
     "text": [
      "Processing ecommerce_data.csv:  19%|█▉        | 59/305 [06:51<28:56,  7.06s/it]"
     ]
    },
    {
     "name": "stdout",
     "output_type": "stream",
     "text": [
      "Unable to find distance for row 6652\n"
     ]
    },
    {
     "name": "stderr",
     "output_type": "stream",
     "text": [
      "Processing ecommerce_data.csv:  20%|█▉        | 60/305 [06:58<28:43,  7.03s/it]"
     ]
    },
    {
     "name": "stdout",
     "output_type": "stream",
     "text": [
      "Unable to find distance for row 6654\n"
     ]
    },
    {
     "name": "stderr",
     "output_type": "stream",
     "text": [
      "Processing ecommerce_data.csv:  20%|██        | 61/305 [07:05<28:27,  7.00s/it]"
     ]
    },
    {
     "name": "stdout",
     "output_type": "stream",
     "text": [
      "Unable to find distance for row 6981\n"
     ]
    },
    {
     "name": "stderr",
     "output_type": "stream",
     "text": [
      "Processing ecommerce_data.csv:  20%|██        | 62/305 [07:12<28:20,  7.00s/it]"
     ]
    },
    {
     "name": "stdout",
     "output_type": "stream",
     "text": [
      "Unable to find distance for row 7030\n"
     ]
    },
    {
     "name": "stderr",
     "output_type": "stream",
     "text": [
      "Processing ecommerce_data.csv:  21%|██        | 63/305 [07:19<28:07,  6.97s/it]"
     ]
    },
    {
     "name": "stdout",
     "output_type": "stream",
     "text": [
      "Unable to find distance for row 7064\n"
     ]
    },
    {
     "name": "stderr",
     "output_type": "stream",
     "text": [
      "Processing ecommerce_data.csv:  21%|██        | 64/305 [07:26<27:53,  6.94s/it]"
     ]
    },
    {
     "name": "stdout",
     "output_type": "stream",
     "text": [
      "Unable to find distance for row 7103\n"
     ]
    },
    {
     "name": "stderr",
     "output_type": "stream",
     "text": [
      "Processing ecommerce_data.csv:  21%|██▏       | 65/305 [07:33<27:52,  6.97s/it]"
     ]
    },
    {
     "name": "stdout",
     "output_type": "stream",
     "text": [
      "Unable to find distance for row 7151\n"
     ]
    },
    {
     "name": "stderr",
     "output_type": "stream",
     "text": [
      "Processing ecommerce_data.csv:  22%|██▏       | 66/305 [07:40<27:39,  6.94s/it]"
     ]
    },
    {
     "name": "stdout",
     "output_type": "stream",
     "text": [
      "Unable to find distance for row 7188\n"
     ]
    },
    {
     "name": "stderr",
     "output_type": "stream",
     "text": [
      "Processing ecommerce_data.csv:  22%|██▏       | 67/305 [07:47<27:40,  6.98s/it]"
     ]
    },
    {
     "name": "stdout",
     "output_type": "stream",
     "text": [
      "Unable to find distance for row 7512\n"
     ]
    },
    {
     "name": "stderr",
     "output_type": "stream",
     "text": [
      "Processing ecommerce_data.csv:  22%|██▏       | 68/305 [07:54<27:31,  6.97s/it]"
     ]
    },
    {
     "name": "stdout",
     "output_type": "stream",
     "text": [
      "Unable to find distance for row 7702\n"
     ]
    },
    {
     "name": "stderr",
     "output_type": "stream",
     "text": [
      "Processing ecommerce_data.csv:  23%|██▎       | 69/305 [08:01<27:35,  7.01s/it]"
     ]
    },
    {
     "name": "stdout",
     "output_type": "stream",
     "text": [
      "Unable to find distance for row 7747\n"
     ]
    },
    {
     "name": "stderr",
     "output_type": "stream",
     "text": [
      "Processing ecommerce_data.csv:  23%|██▎       | 70/305 [08:08<27:26,  7.01s/it]"
     ]
    },
    {
     "name": "stdout",
     "output_type": "stream",
     "text": [
      "Unable to find distance for row 7749\n"
     ]
    },
    {
     "name": "stderr",
     "output_type": "stream",
     "text": [
      "Processing ecommerce_data.csv:  23%|██▎       | 71/305 [08:15<27:12,  6.98s/it]"
     ]
    },
    {
     "name": "stdout",
     "output_type": "stream",
     "text": [
      "Unable to find distance for row 7769\n"
     ]
    },
    {
     "name": "stderr",
     "output_type": "stream",
     "text": [
      "Processing ecommerce_data.csv:  24%|██▎       | 72/305 [08:23<28:36,  7.37s/it]"
     ]
    },
    {
     "name": "stdout",
     "output_type": "stream",
     "text": [
      "Unable to find distance for row 7771\n"
     ]
    },
    {
     "name": "stderr",
     "output_type": "stream",
     "text": [
      "Processing ecommerce_data.csv:  24%|██▍       | 73/305 [08:30<27:56,  7.23s/it]"
     ]
    },
    {
     "name": "stdout",
     "output_type": "stream",
     "text": [
      "Unable to find distance for row 7782\n"
     ]
    },
    {
     "name": "stderr",
     "output_type": "stream",
     "text": [
      "Processing ecommerce_data.csv:  24%|██▍       | 74/305 [08:37<27:20,  7.10s/it]"
     ]
    },
    {
     "name": "stdout",
     "output_type": "stream",
     "text": [
      "Unable to find distance for row 7940\n"
     ]
    },
    {
     "name": "stderr",
     "output_type": "stream",
     "text": [
      "Processing ecommerce_data.csv:  25%|██▍       | 75/305 [08:44<27:00,  7.04s/it]"
     ]
    },
    {
     "name": "stdout",
     "output_type": "stream",
     "text": [
      "Unable to find distance for row 7943\n"
     ]
    },
    {
     "name": "stderr",
     "output_type": "stream",
     "text": [
      "Processing ecommerce_data.csv:  25%|██▍       | 76/305 [08:50<26:36,  6.97s/it]"
     ]
    },
    {
     "name": "stdout",
     "output_type": "stream",
     "text": [
      "Unable to find distance for row 7965\n"
     ]
    },
    {
     "name": "stderr",
     "output_type": "stream",
     "text": [
      "Processing ecommerce_data.csv:  25%|██▌       | 77/305 [08:57<26:17,  6.92s/it]"
     ]
    },
    {
     "name": "stdout",
     "output_type": "stream",
     "text": [
      "Unable to find distance for row 8184\n"
     ]
    },
    {
     "name": "stderr",
     "output_type": "stream",
     "text": [
      "Processing ecommerce_data.csv:  26%|██▌       | 78/305 [09:04<26:06,  6.90s/it]"
     ]
    },
    {
     "name": "stdout",
     "output_type": "stream",
     "text": [
      "Unable to find distance for row 8206\n"
     ]
    },
    {
     "name": "stderr",
     "output_type": "stream",
     "text": [
      "Processing ecommerce_data.csv:  26%|██▌       | 79/305 [09:11<25:51,  6.86s/it]"
     ]
    },
    {
     "name": "stdout",
     "output_type": "stream",
     "text": [
      "Unable to find distance for row 8211\n"
     ]
    },
    {
     "name": "stderr",
     "output_type": "stream",
     "text": [
      "Processing ecommerce_data.csv:  26%|██▌       | 80/305 [09:18<25:40,  6.85s/it]"
     ]
    },
    {
     "name": "stdout",
     "output_type": "stream",
     "text": [
      "Unable to find distance for row 8269\n"
     ]
    },
    {
     "name": "stderr",
     "output_type": "stream",
     "text": [
      "Processing ecommerce_data.csv:  27%|██▋       | 81/305 [09:24<25:30,  6.83s/it]"
     ]
    },
    {
     "name": "stdout",
     "output_type": "stream",
     "text": [
      "Unable to find distance for row 8543\n"
     ]
    },
    {
     "name": "stderr",
     "output_type": "stream",
     "text": [
      "Processing ecommerce_data.csv:  27%|██▋       | 82/305 [09:32<26:30,  7.13s/it]"
     ]
    },
    {
     "name": "stdout",
     "output_type": "stream",
     "text": [
      "Unable to find distance for row 8559\n"
     ]
    },
    {
     "name": "stderr",
     "output_type": "stream",
     "text": [
      "Processing ecommerce_data.csv:  33%|███▎      | 100/305 [10:09<06:52,  2.01s/it]"
     ]
    },
    {
     "name": "stdout",
     "output_type": "stream",
     "text": [
      "\n",
      "--- Statistics for ecommerce_data.csv after 100 processed rows ---\n",
      "Successful lookups: 18 (18.00%)\n",
      "Failed lookups: 82 (82.00%)\n",
      "------------------------------------------------\n",
      "\n"
     ]
    },
    {
     "name": "stderr",
     "output_type": "stream",
     "text": [
      "Processing ecommerce_data.csv:  33%|███▎      | 102/305 [10:18<11:58,  3.54s/it]"
     ]
    },
    {
     "name": "stdout",
     "output_type": "stream",
     "text": [
      "Unable to find distance for row 8621\n"
     ]
    },
    {
     "name": "stderr",
     "output_type": "stream",
     "text": [
      "Processing ecommerce_data.csv:  37%|███▋      | 113/305 [10:46<11:34,  3.62s/it]"
     ]
    },
    {
     "name": "stdout",
     "output_type": "stream",
     "text": [
      "Unable to find distance for row 8634\n"
     ]
    },
    {
     "name": "stderr",
     "output_type": "stream",
     "text": [
      "Processing ecommerce_data.csv:  41%|████▏     | 126/305 [11:17<10:42,  3.59s/it]"
     ]
    },
    {
     "name": "stdout",
     "output_type": "stream",
     "text": [
      "Unable to find distance for row 8648\n"
     ]
    },
    {
     "name": "stderr",
     "output_type": "stream",
     "text": [
      "Processing ecommerce_data.csv:  59%|█████▉    | 180/305 [13:13<07:30,  3.60s/it]"
     ]
    },
    {
     "name": "stdout",
     "output_type": "stream",
     "text": [
      "Unable to find distance for row 8710\n"
     ]
    },
    {
     "name": "stderr",
     "output_type": "stream",
     "text": [
      "Processing ecommerce_data.csv:  66%|██████▌   | 200/305 [13:54<03:30,  2.00s/it]"
     ]
    },
    {
     "name": "stdout",
     "output_type": "stream",
     "text": [
      "\n",
      "--- Statistics for ecommerce_data.csv after 200 processed rows ---\n",
      "Successful lookups: 114 (57.00%)\n",
      "Failed lookups: 86 (43.00%)\n",
      "------------------------------------------------\n",
      "\n"
     ]
    },
    {
     "name": "stderr",
     "output_type": "stream",
     "text": [
      "Processing ecommerce_data.csv:  77%|███████▋  | 235/305 [15:11<04:09,  3.56s/it]"
     ]
    },
    {
     "name": "stdout",
     "output_type": "stream",
     "text": [
      "Unable to find distance for row 8768\n"
     ]
    },
    {
     "name": "stderr",
     "output_type": "stream",
     "text": [
      "Processing ecommerce_data.csv:  90%|████████▉ | 274/305 [16:36<01:50,  3.58s/it]"
     ]
    },
    {
     "name": "stdout",
     "output_type": "stream",
     "text": [
      "Unable to find distance for row 8988\n"
     ]
    },
    {
     "name": "stderr",
     "output_type": "stream",
     "text": [
      "Processing ecommerce_data.csv:  95%|█████████▍| 289/305 [17:11<00:58,  3.68s/it]"
     ]
    },
    {
     "name": "stdout",
     "output_type": "stream",
     "text": [
      "Unable to find distance for row 9008\n"
     ]
    },
    {
     "name": "stderr",
     "output_type": "stream",
     "text": [
      "Processing ecommerce_data.csv:  98%|█████████▊| 299/305 [17:36<00:21,  3.57s/it]"
     ]
    },
    {
     "name": "stdout",
     "output_type": "stream",
     "text": [
      "Unable to find distance for row 9019\n"
     ]
    },
    {
     "name": "stderr",
     "output_type": "stream",
     "text": [
      "Processing ecommerce_data.csv:  98%|█████████▊| 300/305 [17:38<00:15,  3.00s/it]"
     ]
    },
    {
     "name": "stdout",
     "output_type": "stream",
     "text": [
      "\n",
      "--- Statistics for ecommerce_data.csv after 300 processed rows ---\n",
      "Successful lookups: 210 (70.00%)\n",
      "Failed lookups: 90 (30.00%)\n",
      "------------------------------------------------\n",
      "\n"
     ]
    },
    {
     "name": "stderr",
     "output_type": "stream",
     "text": [
      "Processing ecommerce_data.csv: 100%|██████████| 305/305 [17:48<00:00,  3.50s/it]"
     ]
    },
    {
     "name": "stdout",
     "output_type": "stream",
     "text": [
      "\n",
      "--- Statistics for ecommerce_data.csv after 305 processed rows ---\n",
      "Successful lookups: 215 (70.49%)\n",
      "Failed lookups: 90 (29.51%)\n",
      "------------------------------------------------\n",
      "\n",
      "Processing completed for ecommerce_data.csv\n",
      "\n",
      "=== Total Statistics ===\n",
      "Total processed rows: 305\n",
      "Total successful lookups: 215\n",
      "Total failed lookups: 90\n",
      "=========================\n"
     ]
    },
    {
     "name": "stderr",
     "output_type": "stream",
     "text": [
      "\n"
     ]
    }
   ],
   "source": [
    "def get_osrm_distance(coord1, coord2):\n",
    "    \"\"\"\n",
    "    Retrieves the driving distance (in km) and duration (in seconds) \n",
    "    between two coordinates using the OSRM API.\n",
    "    \"\"\"\n",
    "    url = f\"http://router.project-osrm.org/route/v1/driving/{coord1[1]},{coord1[0]};{coord2[1]},{coord2[0]}\"\n",
    "    \n",
    "    response = requests.get(url)\n",
    "    data = response.json()\n",
    "    \n",
    "    if 'routes' in data and len(data['routes']) > 0:\n",
    "        distance_km = data['routes'][0]['distance'] / 1000\n",
    "        duration_seconds = data['routes'][0]['duration']\n",
    "        return round(distance_km, 2), duration_seconds\n",
    "    return None, None\n",
    "\n",
    "def get_zipcode_coordinates(zipcode: str, country) -> Optional[Tuple[float, float]]:\n",
    "    \"\"\"\n",
    "    Returns the latitude and longitude of a given ZIP code and country using the Nominatim geocoding API.\n",
    "    \"\"\"\n",
    "    try:\n",
    "        geolocator = Nominatim(user_agent=\"my_distance_calculator\")\n",
    "        location = geolocator.geocode(f\"{zipcode}, {country}\")\n",
    "        \n",
    "        if location:\n",
    "            return (location.latitude, location.longitude)\n",
    "        return None\n",
    "        \n",
    "    except Exception:\n",
    "        return None\n",
    "\n",
    "def print_statistics(file_name, processed_rows, successful_lookups, failed_lookups):\n",
    "    \"\"\"\n",
    "    Prints statistics on the processed dataset.\n",
    "    \"\"\"\n",
    "    total = successful_lookups + failed_lookups\n",
    "    success_rate = (successful_lookups / total * 100) if total > 0 else 0\n",
    "    failure_rate = (failed_lookups / total * 100) if total > 0 else 0\n",
    "    \n",
    "    print(f\"\\n--- Statistics for {file_name} after {processed_rows} processed rows ---\")\n",
    "    print(f\"Successful lookups: {successful_lookups} ({success_rate:.2f}%)\")\n",
    "    print(f\"Failed lookups: {failed_lookups} ({failure_rate:.2f}%)\")\n",
    "    print(\"------------------------------------------------\\n\")\n",
    "\n",
    "def process_dataset(filename: str):\n",
    "    \"\"\"\n",
    "    Processes the dataset, calculates missing distances, and updates the CSV file.\n",
    "    \"\"\"\n",
    "    print(f\"\\nProcessing {filename}...\")\n",
    "    \n",
    "    # Load the dataset\n",
    "    data = pd.read_csv(filename)\n",
    "    \n",
    "    # Filter the DataFrame for rows where distance needs to be calculated\n",
    "    filtered_data = data[\n",
    "        (data['DECLARED_DISTANCE_KM'].isna() | (data['DECLARED_DISTANCE_KM'] == 0))\n",
    "    ]\n",
    "    \n",
    "    # Counters for statistics\n",
    "    processed_rows = 0\n",
    "    successful_lookups = 0\n",
    "    failed_lookups = 0\n",
    "    \n",
    "    # Iterate through the filtered dataset\n",
    "    for index, row in tqdm(filtered_data.iterrows(), total=filtered_data.shape[0], \n",
    "                          desc=f\"Processing {filename}\"):\n",
    "        processed_rows += 1\n",
    "        \n",
    "        departure_country = row['DEPARTURE_COUNTRY']\n",
    "        departure_zipcode = row['DEPARTURE_ZIPCODE']\n",
    "        arrival_zipcode = row['ARRIVAL_ZIPCODE']\n",
    "        \n",
    "        if departure_country in [\"IT\", \"US\"]:\n",
    "            departure_coords = get_zipcode_coordinates(departure_zipcode, departure_country)\n",
    "            arrival_coords = get_zipcode_coordinates(arrival_zipcode, departure_country)\n",
    "        else:\n",
    "            failed_lookups += 1\n",
    "            continue\n",
    "        \n",
    "        if departure_coords and arrival_coords:\n",
    "            distance = None\n",
    "            error_count = 0\n",
    "            \n",
    "            while error_count < 5:\n",
    "                distance, _ = get_osrm_distance(departure_coords, arrival_coords)\n",
    "                if distance is not None:\n",
    "                    # Update the DataFrame and immediately save it to the same file\n",
    "                    data.at[index, 'DECLARED_DISTANCE_KM'] = distance\n",
    "                    data.to_csv(filename, index=False)\n",
    "                    \n",
    "                    successful_lookups += 1\n",
    "                    break\n",
    "                error_count += 1\n",
    "                time.sleep(1)  # Add a delay to avoid too many requests\n",
    "                \n",
    "                if error_count == 5:\n",
    "                    print(f\"Unable to find distance for row {index}\")\n",
    "                    failed_lookups += 1\n",
    "        else:\n",
    "            failed_lookups += 1\n",
    "        \n",
    "        # Print statistics every 100 rows\n",
    "        if processed_rows % 100 == 0:\n",
    "            print_statistics(filename, processed_rows, successful_lookups, failed_lookups)\n",
    "    \n",
    "    # Print final statistics\n",
    "    print_statistics(filename, processed_rows, successful_lookups, failed_lookups)\n",
    "    return processed_rows, successful_lookups, failed_lookups\n",
    "\n",
    "def main():\n",
    "    \"\"\"\n",
    "    Main function to process multiple dataset files and calculate distances.\n",
    "    \"\"\"\n",
    "    # List of files to process\n",
    "    files = [\n",
    "        \"gomma_data.csv\",\n",
    "        \"corrieri_data.csv\",\n",
    "        \"ecommerce_data.csv\"\n",
    "    ]\n",
    "    \n",
    "    total_stats = {\n",
    "        \"processed\": 0,\n",
    "        \"successful\": 0,\n",
    "        \"failed\": 0\n",
    "    }\n",
    "    \n",
    "    # Process each file\n",
    "    for filename in files:\n",
    "        try:\n",
    "            processed, successful, failed = process_dataset(filename)\n",
    "            total_stats[\"processed\"] += processed\n",
    "            total_stats[\"successful\"] += successful\n",
    "            total_stats[\"failed\"] += failed\n",
    "            print(f\"Processing completed for {filename}\")\n",
    "        except FileNotFoundError:\n",
    "            print(f\"File not found: {filename}\")\n",
    "        except Exception as e:\n",
    "            print(f\"Error processing {filename}: {str(e)}\")\n",
    "    \n",
    "    # Print total statistics\n",
    "    print(\"\\n=== Total Statistics ===\")\n",
    "    print(f\"Total processed rows: {total_stats['processed']}\")\n",
    "    print(f\"Total successful lookups: {total_stats['successful']}\")\n",
    "    print(f\"Total failed lookups: {total_stats['failed']}\")\n",
    "    print(\"=========================\")\n",
    "\n",
    "if __name__ == \"__main__\":\n",
    "    main()"
   ]
  },
  {
   "cell_type": "markdown",
   "id": "561eb7c5-c0a5-4f8d-91b6-ce8034a07ba4",
   "metadata": {},
   "source": [
    "## Merging the csv files\n",
    "\n",
    "We merge the 3 csv files created based on the service, keeping the blank rows that were in the initial dataset"
   ]
  },
  {
   "cell_type": "code",
   "execution_count": 13,
   "id": "63167876-a0c2-4041-bcff-b4638216e808",
   "metadata": {},
   "outputs": [
    {
     "name": "stdout",
     "output_type": "stream",
     "text": [
      "Data cleaning completed.\n",
      "Cleaned dataset saved as 'delivery_data_clear.csv'\n"
     ]
    }
   ],
   "source": [
    "def clean_delivery_data(main_file, additional_files):\n",
    "    \"\"\"\n",
    "    Data cleaning and integration procedure for delivery data\n",
    "    \n",
    "    Args:\n",
    "    main_file (str): Path to the main CSV file\n",
    "    additional_files (list): List of paths to additional CSV files\n",
    "    \n",
    "    Returns:\n",
    "\n",
    "    DataFrame: DataFrame with integrated kilometers and corrected times\n",
    "    \"\"\"\n",
    "    # 1. Load the main dataset\n",
    "    delivery_df = pd.read_csv(main_file)\n",
    "    \n",
    "    # 2. Create a copy of the dataset\n",
    "    integrated_km_df = delivery_df.copy()\n",
    "    \n",
    "    # 3. Try to fill in missing kilometers from other datasets\n",
    "    for additional_file in additional_files:\n",
    "        additional_df = pd.read_csv(additional_file)\n",
    "        \n",
    "        # Find rows with missing kilometers\n",
    "        missing_km_mask = integrated_km_df['DECLARED_DISTANCE_KM'].isna()\n",
    "        \n",
    "        # Try to integrate kilometers from the other dataset\n",
    "        for index, row in integrated_km_df[missing_km_mask].iterrows():\n",
    "            match = additional_df[\n",
    "                (additional_df['DEPARTURE_COUNTRY'] == row['DEPARTURE_COUNTRY']) & \n",
    "                (additional_df['ARRIVAL_COUNTRY'] == row['ARRIVAL_COUNTRY'])\n",
    "            ]\n",
    "            \n",
    "            if not match.empty:\n",
    "                mode_value = match['DECLARED_DISTANCE_KM'].mode()\n",
    "                if not mode_value.empty:\n",
    "                    integrated_km_df.at[index, 'DECLARED_DISTANCE_KM'] = mode_value.iloc[0]\n",
    "    \n",
    "    # 4. Handle negative travel times\n",
    "    negative_travel_time_mask = integrated_km_df['DELIVERY_TIME_HH'] < 0\n",
    "    \n",
    "    # Convert negative times to positive and swap the dates\n",
    "    integrated_km_df.loc[negative_travel_time_mask, 'DELIVERY_TIME_HH'] = abs(integrated_km_df.loc[negative_travel_time_mask, 'DELIVERY_TIME_HH'])\n",
    "    integrated_km_df.loc[negative_travel_time_mask, ['SHIPPING_DATE', 'ACTUAL_DELIVERY_DATE']] = \\\n",
    "        integrated_km_df.loc[negative_travel_time_mask, ['ACTUAL_DELIVERY_DATE', 'SHIPPING_DATE']].values\n",
    "    \n",
    "    return integrated_km_df\n",
    "\n",
    "# Example usage\n",
    "main_file = 'delivery_data.csv'\n",
    "additional_files = ['gomma_data.csv', 'ecommerce_data.csv', 'corrieri_data.csv']\n",
    "\n",
    "# Execute the data cleaning\n",
    "cleaned_data = clean_delivery_data(main_file, additional_files)\n",
    "\n",
    "# Save the cleaned dataset\n",
    "cleaned_data.to_csv('delivery_data_clear.csv', index=False)\n",
    "\n",
    "print(\"Data cleaning completed.\")\n",
    "print(\"Cleaned dataset saved as 'delivery_data_clear.csv'\")"
   ]
  },
  {
   "cell_type": "markdown",
   "id": "dc3c1f2a-0f24-4950-992e-c60885ec40a8",
   "metadata": {},
   "source": [
    "## Completed ordering the dataset in 2 steps\n",
    "\n",
    "### 1) Added missing distances Km"
   ]
  },
  {
   "cell_type": "code",
   "execution_count": 14,
   "id": "417cd8f7-9763-4d65-8c16-7d8b6f662391",
   "metadata": {},
   "outputs": [
    {
     "name": "stdout",
     "output_type": "stream",
     "text": [
      "\n",
      "Processing delivery_data_clear.csv...\n"
     ]
    },
    {
     "name": "stderr",
     "output_type": "stream",
     "text": [
      "Processing distances:  17%|█▋        | 100/574 [03:26<15:52,  2.01s/it]"
     ]
    },
    {
     "name": "stdout",
     "output_type": "stream",
     "text": [
      "\n",
      "--- Processing Statistics ---\n",
      "Processed rows: 100\n",
      "Successful lookups: 100 (100.00%)\n",
      "Failed lookups: 0 (0.00%)\n",
      "------------------------------------------------\n",
      "\n"
     ]
    },
    {
     "name": "stderr",
     "output_type": "stream",
     "text": [
      "Processing distances:  35%|███▍      | 200/574 [06:52<12:38,  2.03s/it]"
     ]
    },
    {
     "name": "stdout",
     "output_type": "stream",
     "text": [
      "\n",
      "--- Processing Statistics ---\n",
      "Processed rows: 200\n",
      "Successful lookups: 200 (100.00%)\n",
      "Failed lookups: 0 (0.00%)\n",
      "------------------------------------------------\n",
      "\n"
     ]
    },
    {
     "name": "stderr",
     "output_type": "stream",
     "text": [
      "Processing distances:  52%|█████▏    | 300/574 [10:14<09:10,  2.01s/it]"
     ]
    },
    {
     "name": "stdout",
     "output_type": "stream",
     "text": [
      "\n",
      "--- Processing Statistics ---\n",
      "Processed rows: 300\n",
      "Successful lookups: 300 (100.00%)\n",
      "Failed lookups: 0 (0.00%)\n",
      "------------------------------------------------\n",
      "\n"
     ]
    },
    {
     "name": "stderr",
     "output_type": "stream",
     "text": [
      "Processing distances:  70%|██████▉   | 400/574 [13:38<05:50,  2.01s/it]"
     ]
    },
    {
     "name": "stdout",
     "output_type": "stream",
     "text": [
      "\n",
      "--- Processing Statistics ---\n",
      "Processed rows: 400\n",
      "Successful lookups: 400 (100.00%)\n",
      "Failed lookups: 0 (0.00%)\n",
      "------------------------------------------------\n",
      "\n"
     ]
    },
    {
     "name": "stderr",
     "output_type": "stream",
     "text": [
      "Processing distances:  87%|████████▋ | 500/574 [17:01<02:29,  2.02s/it]"
     ]
    },
    {
     "name": "stdout",
     "output_type": "stream",
     "text": [
      "\n",
      "--- Processing Statistics ---\n",
      "Processed rows: 500\n",
      "Successful lookups: 500 (100.00%)\n",
      "Failed lookups: 0 (0.00%)\n",
      "------------------------------------------------\n",
      "\n"
     ]
    },
    {
     "name": "stderr",
     "output_type": "stream",
     "text": [
      "Processing distances: 100%|██████████| 574/574 [19:31<00:00,  2.04s/it]"
     ]
    },
    {
     "name": "stdout",
     "output_type": "stream",
     "text": [
      "\n",
      "--- Processing Statistics ---\n",
      "Processed rows: 574\n",
      "Successful lookups: 574 (100.00%)\n",
      "Failed lookups: 0 (0.00%)\n",
      "------------------------------------------------\n",
      "\n",
      "\n",
      "Processing completed.\n",
      "Total processed rows: 574\n",
      "Successful lookups: 574\n",
      "Failed lookups: 0\n"
     ]
    },
    {
     "name": "stderr",
     "output_type": "stream",
     "text": [
      "\n"
     ]
    }
   ],
   "source": [
    "def get_osrm_distance(coord1, coord2):\n",
    "    \"\"\"\n",
    "    Retrieves the driving distance (in km) and duration (in seconds) \n",
    "    between two coordinates using the OSRM API.\n",
    "    \"\"\"\n",
    "    url = f\"http://router.project-osrm.org/route/v1/driving/{coord1[1]},{coord1[0]};{coord2[1]},{coord2[0]}\"\n",
    "    \n",
    "    response = requests.get(url)\n",
    "    data = response.json()\n",
    "    \n",
    "    if 'routes' in data and len(data['routes']) > 0:\n",
    "        distance_km = data['routes'][0]['distance'] / 1000\n",
    "        duration_seconds = data['routes'][0]['duration']\n",
    "        return round(distance_km, 2), duration_seconds\n",
    "    return None, None\n",
    "\n",
    "def get_zipcode_coordinates(zipcode: str, country) -> Optional[Tuple[float, float]]:\n",
    "    \"\"\"\n",
    "    Returns the latitude and longitude of a given ZIP code and country using the Nominatim geocoding API.\n",
    "    \"\"\"\n",
    "    try:\n",
    "        geolocator = Nominatim(user_agent=\"my_distance_calculator\")\n",
    "        location = geolocator.geocode(f\"{zipcode}, {country}\")\n",
    "        \n",
    "        if location:\n",
    "            return (location.latitude, location.longitude)\n",
    "        return None\n",
    "        \n",
    "    except Exception:\n",
    "        return None\n",
    "\n",
    "def print_statistics(processed_rows, successful_lookups, failed_lookups):\n",
    "    \"\"\"\n",
    "    Prints statistics on the processed dataset.\n",
    "    \"\"\"\n",
    "    total = successful_lookups + failed_lookups\n",
    "    success_rate = (successful_lookups / total * 100) if total > 0 else 0\n",
    "    failure_rate = (failed_lookups / total * 100) if total > 0 else 0\n",
    "    \n",
    "    print(f\"\\n--- Processing Statistics ---\")\n",
    "    print(f\"Processed rows: {processed_rows}\")\n",
    "    print(f\"Successful lookups: {successful_lookups} ({success_rate:.2f}%)\")\n",
    "    print(f\"Failed lookups: {failed_lookups} ({failure_rate:.2f}%)\")\n",
    "    print(\"------------------------------------------------\\n\")\n",
    "\n",
    "def process_dataset():\n",
    "    \"\"\"\n",
    "    Processes the dataset, calculates missing distances, and updates the CSV file.\n",
    "    \"\"\"\n",
    "    filename = \"delivery_data_clear.csv\"\n",
    "    print(f\"\\nProcessing {filename}...\")\n",
    "    \n",
    "    # Load the dataset\n",
    "    data = pd.read_csv(filename)\n",
    "    \n",
    "    # Filter the DataFrame for rows where distance needs to be calculated\n",
    "    filtered_data = data[\n",
    "        (data['DECLARED_DISTANCE_KM'].isna() | (data['DECLARED_DISTANCE_KM'] == 0))\n",
    "    ]\n",
    "    \n",
    "    # Counters for statistics\n",
    "    processed_rows = 0\n",
    "    successful_lookups = 0\n",
    "    failed_lookups = 0\n",
    "    \n",
    "    # Iterate through the filtered dataset\n",
    "    for index, row in tqdm(filtered_data.iterrows(), total=filtered_data.shape[0], \n",
    "                          desc=f\"Processing distances\"):\n",
    "        processed_rows += 1\n",
    "        \n",
    "        departure_country = row['DEPARTURE_COUNTRY']\n",
    "        departure_zipcode = row['DEPARTURE_ZIPCODE']\n",
    "        arrival_zipcode = row['ARRIVAL_ZIPCODE']\n",
    "        \n",
    "        if departure_country in [\"IT\", \"US\"]:\n",
    "            departure_coords = get_zipcode_coordinates(departure_zipcode, departure_country)\n",
    "            arrival_coords = get_zipcode_coordinates(arrival_zipcode, departure_country)\n",
    "        else:\n",
    "            failed_lookups += 1\n",
    "            continue\n",
    "        \n",
    "        if departure_coords and arrival_coords:\n",
    "            distance = None\n",
    "            error_count = 0\n",
    "            \n",
    "            while error_count < 5:\n",
    "                distance, _ = get_osrm_distance(departure_coords, arrival_coords)\n",
    "                if distance is not None:\n",
    "                    # Update the DataFrame and immediately save it to the same file\n",
    "                    data.at[index, 'DECLARED_DISTANCE_KM'] = distance\n",
    "                    data.to_csv(filename, index=False)\n",
    "                    \n",
    "                    successful_lookups += 1\n",
    "                    break\n",
    "                error_count += 1\n",
    "                time.sleep(1)  # Add a delay to avoid too many requests\n",
    "                \n",
    "                if error_count == 5:\n",
    "                    print(f\"Unable to find distance for row {index}\")\n",
    "                    failed_lookups += 1\n",
    "        else:\n",
    "            failed_lookups += 1\n",
    "        \n",
    "        # Print statistics every 100 rows\n",
    "        if processed_rows % 100 == 0:\n",
    "            print_statistics(processed_rows, successful_lookups, failed_lookups)\n",
    "    \n",
    "    # Print final statistics\n",
    "    print_statistics(processed_rows, successful_lookups, failed_lookups)\n",
    "    return processed_rows, successful_lookups, failed_lookups\n",
    "\n",
    "def main():\n",
    "    \"\"\"\n",
    "    Main function to process the dataset and calculate distances.\n",
    "    \"\"\"\n",
    "    try:\n",
    "        processed, successful, failed = process_dataset()\n",
    "        print(f\"\\nProcessing completed.\")\n",
    "        print(f\"Total processed rows: {processed}\")\n",
    "        print(f\"Successful lookups: {successful}\")\n",
    "        print(f\"Failed lookups: {failed}\")\n",
    "    except FileNotFoundError:\n",
    "        print(\"File delivery_data_clear.csv not found.\")\n",
    "    except Exception as e:\n",
    "        print(f\"Error processing the file: {str(e)}\")\n",
    "\n",
    "if __name__ == \"__main__\":\n",
    "    main()"
   ]
  },
  {
   "cell_type": "markdown",
   "id": "9481190a-75ba-45fc-81d3-b1b37e86faff",
   "metadata": {},
   "source": [
    "### 2) Add missing vehicles and services"
   ]
  },
  {
   "cell_type": "code",
   "execution_count": 15,
   "id": "20d1949d-79e0-4fc0-9bf9-1bd5373f6f46",
   "metadata": {},
   "outputs": [
    {
     "name": "stdout",
     "output_type": "stream",
     "text": [
      "\n",
      "SERVICETYPE Accuracy: 96.72%\n",
      "VEHICLETYPE Accuracy: 90.55%\n",
      "\n",
      "File 'final_delivery_data.csv' created successfully.\n"
     ]
    }
   ],
   "source": [
    "# Suppress specific warnings\n",
    "warnings.filterwarnings('ignore', category=FutureWarning)\n",
    "warnings.filterwarnings('ignore', category=UserWarning)\n",
    "\n",
    "class MultiColumnLabelEncoder(BaseEstimator, TransformerMixin):\n",
    "    def __init__(self, columns=None):\n",
    "        self.columns = columns\n",
    "        self.encoders = {}\n",
    "\n",
    "    def fit(self, X, y=None):\n",
    "        # Ensure X is a DataFrame\n",
    "        X = pd.DataFrame(X)\n",
    "        \n",
    "        # If no columns specified, use all columns\n",
    "        if self.columns is None:\n",
    "            self.columns = X.columns\n",
    "\n",
    "        # Fit label encoders for specified columns\n",
    "        for col in self.columns:\n",
    "            le = LabelEncoder()\n",
    "            # Handle mixed type columns by converting to string\n",
    "            try:\n",
    "                le.fit(X[col].astype(str).fillna('Unknown'))\n",
    "            except TypeError:\n",
    "                le.fit(X[col].fillna('Unknown').astype(str))\n",
    "            self.encoders[col] = le\n",
    "        \n",
    "        return self\n",
    "\n",
    "    def transform(self, X):\n",
    "        # Ensure X is a DataFrame\n",
    "        X = pd.DataFrame(X)\n",
    "        X_copy = X.copy()\n",
    "        \n",
    "        for col in self.columns:\n",
    "            # Check if column exists and has an encoder\n",
    "            if col in X_copy.columns and col in self.encoders:\n",
    "                le = self.encoders[col]\n",
    "                \n",
    "                # Transform column, handling unseen and NaN values\n",
    "                X_copy[col] = X_copy[col].fillna('Unknown')\n",
    "                X_copy[col] = X_copy[col].map(\n",
    "                    lambda s: le.transform([str(s)])[0] \n",
    "                    if str(s) in le.classes_ \n",
    "                    else -1\n",
    "                )\n",
    "        \n",
    "        return X_copy\n",
    "\n",
    "    def fit_transform(self, X, y=None):\n",
    "        return self.fit(X).transform(X)\n",
    "\n",
    "def prepare_data_for_ml(df):\n",
    "    \"\"\"\n",
    "    Prepare the data for training the Machine Learning model\n",
    "    \n",
    "    Args:\n",
    "    df (pd.DataFrame): Original dataset\n",
    "    \n",
    "    Returns:\n",
    "    tuple: Features, target for SERVICETYPE and VEHICLETYPE\n",
    "    \"\"\"\n",
    "    # Select features for prediction\n",
    "    features_columns = [\n",
    "        'DEPARTURE_COUNTRY', \n",
    "        'ARRIVAL_COUNTRY', \n",
    "        'GROSS_WEIGHT_KG', \n",
    "        'NET_WEIGHT_KG', \n",
    "        'VOLUME_M3', \n",
    "        'DECLARED_DISTANCE_KM',\n",
    "        'DELIVERY_TIME_HH',\n",
    "        'WDAY'\n",
    "    ]\n",
    "    \n",
    "    # Create a copy of the dataset\n",
    "    df_prepared = df.copy()\n",
    "    \n",
    "    # Remove rows with null target values\n",
    "    df_known = df_prepared.dropna(subset=['SERVICETYPE', 'VEHICLETYPE'])\n",
    "    \n",
    "    # Validate that we have enough data for training\n",
    "    if len(df_known) == 0:\n",
    "        raise ValueError(\"No rows available for training after removing null targets\")\n",
    "    \n",
    "    # Prepare the features\n",
    "    X = df_known[features_columns].copy()\n",
    "    \n",
    "    # Prepare the targets\n",
    "    y_service = df_known['SERVICETYPE']\n",
    "    y_vehicle = df_known['VEHICLETYPE']\n",
    "    \n",
    "    return X, y_service, y_vehicle\n",
    "\n",
    "def create_ml_pipeline(is_categorical=True):\n",
    "    \"\"\"\n",
    "    Create a preprocessing and classification pipeline\n",
    "    \n",
    "    Args:\n",
    "    is_categorical (bool): If True, use encoding for categorical columns\n",
    "    \n",
    "    Returns:\n",
    "    Pipeline: Preprocessing and classification pipeline\n",
    "    \"\"\"\n",
    "    # Numeric and categorical columns\n",
    "    numeric_features = [\n",
    "        'GROSS_WEIGHT_KG', \n",
    "        'NET_WEIGHT_KG', \n",
    "        'VOLUME_M3', \n",
    "        'DECLARED_DISTANCE_KM',\n",
    "        'DELIVERY_TIME_HH',\n",
    "        'WDAY'\n",
    "    ]\n",
    "    categorical_features = ['DEPARTURE_COUNTRY', 'ARRIVAL_COUNTRY']\n",
    "    \n",
    "    # Preprocessing for numeric columns\n",
    "    numeric_transformer = Pipeline(steps=[\n",
    "        ('imputer', SimpleImputer(strategy='median')),\n",
    "        ('scaler', StandardScaler())\n",
    "    ])\n",
    "    \n",
    "    # Preprocessing for categorical columns\n",
    "    preprocessing_steps = [\n",
    "        ('imputer', SimpleImputer(strategy='most_frequent'))\n",
    "    ]\n",
    "    \n",
    "    # Add encoding if requested\n",
    "    if is_categorical:\n",
    "        preprocessing_steps.append(('encoder', MultiColumnLabelEncoder()))\n",
    "    \n",
    "    categorical_transformer = Pipeline(steps=preprocessing_steps)\n",
    "    \n",
    "    # Combine preprocessors\n",
    "    preprocessor = ColumnTransformer(\n",
    "        transformers=[\n",
    "            ('num', numeric_transformer, numeric_features),\n",
    "            ('cat', categorical_transformer, categorical_features)\n",
    "        ])\n",
    "    \n",
    "    # Complete pipeline with preprocessor and classifier\n",
    "    pipeline = Pipeline(steps=[\n",
    "        ('preprocessor', preprocessor),\n",
    "        ('classifier', RandomForestClassifier(n_estimators=100, random_state=42))\n",
    "    ])\n",
    "    \n",
    "    return pipeline\n",
    "\n",
    "def impute_with_ml(input_file):\n",
    "    \"\"\"\n",
    "    Impute missing values using Machine Learning\n",
    "    \n",
    "    Args:\n",
    "    input_file (str): Path to the input CSV file\n",
    "    \n",
    "    Returns:\n",
    "    pd.DataFrame: DataFrame with imputed values\n",
    "    \"\"\"\n",
    "    # Load the dataset\n",
    "    try:\n",
    "        df = pd.read_csv(input_file)\n",
    "    except FileNotFoundError:\n",
    "        print(f\"Error: File {input_file} not found.\")\n",
    "        return None\n",
    "    except Exception as e:\n",
    "        print(f\"Error loading file: {e}\")\n",
    "        return None\n",
    "    \n",
    "    # Create a duplicate of the dataset\n",
    "    df_imputed = df.copy()\n",
    "    \n",
    "    try:\n",
    "        # Prepare the data for training\n",
    "        X, y_service, y_vehicle = prepare_data_for_ml(df)\n",
    "        \n",
    "        # Split the data into training and test sets\n",
    "        X_train, X_test, y_service_train, y_service_test, y_vehicle_train, y_vehicle_test = train_test_split(\n",
    "            X, y_service, y_vehicle, test_size=0.2, random_state=42\n",
    "        )\n",
    "        \n",
    "        # Create and train the models\n",
    "        service_pipeline = create_ml_pipeline(is_categorical=True)\n",
    "        vehicle_pipeline = create_ml_pipeline(is_categorical=True)\n",
    "        \n",
    "        # Train both models\n",
    "        service_pipeline.fit(X_train, y_service_train)\n",
    "        vehicle_pipeline.fit(X_train, y_vehicle_train)\n",
    "        \n",
    "        # Evaluate the models\n",
    "        service_pred = service_pipeline.predict(X_test)\n",
    "        vehicle_pred = vehicle_pipeline.predict(X_test)\n",
    "        \n",
    "        # Calculate accuracy\n",
    "        service_accuracy = accuracy_score(y_service_test, service_pred) * 100\n",
    "        vehicle_accuracy = accuracy_score(y_vehicle_test, vehicle_pred) * 100\n",
    "        \n",
    "        print(f\"\\nSERVICETYPE Accuracy: {service_accuracy:.2f}%\")\n",
    "        print(f\"VEHICLETYPE Accuracy: {vehicle_accuracy:.2f}%\")\n",
    "        \n",
    "        # Identify rows with missing values\n",
    "        missing_mask = df_imputed['SERVICETYPE'].isna() | df_imputed['VEHICLETYPE'].isna()\n",
    "        missing_data = df_imputed.loc[missing_mask, X.columns].copy()\n",
    "        \n",
    "        # Impute missing values\n",
    "        for index in missing_mask[missing_mask].index:\n",
    "            # Impute SERVICETYPE\n",
    "            if pd.isna(df_imputed.at[index, 'SERVICETYPE']):\n",
    "                df_imputed.at[index, 'SERVICETYPE'] = service_pipeline.predict(missing_data.loc[[index]])[0]\n",
    "            \n",
    "            # Impute VEHICLETYPE\n",
    "            if pd.isna(df_imputed.at[index, 'VEHICLETYPE']):\n",
    "                df_imputed.at[index, 'VEHICLETYPE'] = vehicle_pipeline.predict(missing_data.loc[[index]])[0]\n",
    "        \n",
    "        return df_imputed\n",
    "    \n",
    "    except Exception as e:\n",
    "        print(f\"Error during imputation process: {e}\")\n",
    "        return None\n",
    "\n",
    "def main():\n",
    "    \"\"\"\n",
    "    Main function to execute the imputation process\n",
    "    \"\"\"\n",
    "    input_file = 'delivery_data_clear.csv'\n",
    "    output_file = 'final_delivery_data.csv'\n",
    "    \n",
    "    df_with_imputed_data = impute_with_ml(input_file)\n",
    "    \n",
    "    if df_with_imputed_data is not None:\n",
    "        try:\n",
    "            df_with_imputed_data.to_csv(output_file, index=False)\n",
    "            print(f\"\\nFile '{output_file}' created successfully.\")\n",
    "        except Exception as e:\n",
    "            print(f\"Error saving the file: {e}\")\n",
    "\n",
    "if __name__ == \"__main__\":\n",
    "    main()"
   ]
  },
  {
   "cell_type": "markdown",
   "id": "bef16a7b-a003-425f-8a1e-9863e0966ab5",
   "metadata": {},
   "source": [
    "## Creation of 4 correlation matrices for each csv file\n",
    "\n",
    "### Dataset Gomma"
   ]
  },
  {
   "cell_type": "code",
   "execution_count": 16,
   "id": "e245dc5c-307e-4651-8edc-750b323262d7",
   "metadata": {},
   "outputs": [
    {
     "data": {
      "image/png": "[encoded data removed]",
      "text/plain": [
       "<Figure size 1200x1000 with 2 Axes>"
      ]
     },
     "metadata": {},
     "output_type": "display_data"
    }
   ],
   "source": [
    "# Read the dataset\n",
    "df = pd.read_csv('gomma_data.csv')\n",
    "\n",
    "# Select only the numeric columns of interest\n",
    "columns_of_interest = [\n",
    "    'GROSS_WEIGHT_KG',\n",
    "    'NET_WEIGHT_KG',\n",
    "    'VOLUME_M3',\n",
    "    'DECLARED_DISTANCE_KM',\n",
    "    'DELIVERY_TIME_HH',\n",
    "    'WDAY'\n",
    "]\n",
    "\n",
    "# Calculate the correlation matrix\n",
    "correlation_matrix = df[columns_of_interest].corr()\n",
    "\n",
    "# Create a larger figure for better readability\n",
    "plt.figure(figsize=(12, 10))\n",
    "\n",
    "# Create the correlogram using seaborn\n",
    "sns.heatmap(correlation_matrix, \n",
    "            annot=True,  # Show numeric values\n",
    "            cmap='RdBu',  # Use a blue-red colormap\n",
    "            vmin=-1, vmax=1,  # Set scale limits\n",
    "            center=0,  # Center the colormap on zero\n",
    "            fmt='.2f')  # Show two decimals\n",
    "\n",
    "# Rotate labels for better readability\n",
    "plt.xticks(rotation=45, ha='right')\n",
    "plt.yticks(rotation=0)\n",
    "\n",
    "# Add a title\n",
    "plt.title('Correlogram of Transport Variables', pad=20)\n",
    "\n",
    "# Adjust the layout\n",
    "plt.tight_layout()\n",
    "\n",
    "plt.show()"
   ]
  },
  {
   "cell_type": "markdown",
   "id": "d91494e7-3576-40b6-a504-bf1ce83d8419",
   "metadata": {},
   "source": [
    "### Dataset Ecommerce"
   ]
  },
  {
   "cell_type": "code",
   "execution_count": 17,
   "id": "73ddf584-f2db-44ad-afdc-7c6624bbd9d3",
   "metadata": {},
   "outputs": [
    {
     "data": {
      "image/png": "[encoded data removed]",
      "text/plain": [
       "<Figure size 1200x1000 with 2 Axes>"
      ]
     },
     "metadata": {},
     "output_type": "display_data"
    }
   ],
   "source": [
    "# Read the dataset\n",
    "df = pd.read_csv('ecommerce_data.csv')\n",
    "\n",
    "# Select only the numeric columns of interest\n",
    "columns_of_interest = [\n",
    "    'GROSS_WEIGHT_KG',\n",
    "    'NET_WEIGHT_KG',\n",
    "    'VOLUME_M3',\n",
    "    'DECLARED_DISTANCE_KM',\n",
    "    'DELIVERY_TIME_HH',\n",
    "    'WDAY'\n",
    "]\n",
    "\n",
    "# Calculate the correlation matrix\n",
    "correlation_matrix = df[columns_of_interest].corr()\n",
    "\n",
    "# Create a larger figure for better readability\n",
    "plt.figure(figsize=(12, 10))\n",
    "\n",
    "# Create the correlogram using seaborn\n",
    "sns.heatmap(correlation_matrix, \n",
    "            annot=True,  # Show numeric values\n",
    "            cmap='RdBu',  # Use a blue-red colormap\n",
    "            vmin=-1, vmax=1,  # Set scale limits\n",
    "            center=0,  # Center the colormap on zero\n",
    "            fmt='.2f')  # Show two decimals\n",
    "\n",
    "# Rotate labels for better readability\n",
    "plt.xticks(rotation=45, ha='right')\n",
    "plt.yticks(rotation=0)\n",
    "\n",
    "# Add a title\n",
    "plt.title('Correlogram of Transport Variables', pad=20)\n",
    "\n",
    "# Adjust the layout\n",
    "plt.tight_layout()\n",
    "\n",
    "plt.show()"
   ]
  },
  {
   "cell_type": "markdown",
   "id": "cd5244b0-3a9d-4017-afd8-2a95e89b6ab8",
   "metadata": {},
   "source": [
    "### Dataset Corrieri"
   ]
  },
  {
   "cell_type": "code",
   "execution_count": 18,
   "id": "c83240e1-eb12-4b46-ba7c-a48b2893f4e3",
   "metadata": {},
   "outputs": [
    {
     "data": {
      "image/png": "[encoded data removed]",
      "text/plain": [
       "<Figure size 1200x1000 with 2 Axes>"
      ]
     },
     "metadata": {},
     "output_type": "display_data"
    }
   ],
   "source": [
    "# Read the dataset\n",
    "df = pd.read_csv('corrieri_data.csv')\n",
    "\n",
    "# Select only the numeric columns of interest\n",
    "columns_of_interest = [\n",
    "    'GROSS_WEIGHT_KG',\n",
    "    'NET_WEIGHT_KG',\n",
    "    'VOLUME_M3',\n",
    "    'DECLARED_DISTANCE_KM',\n",
    "    'DELIVERY_TIME_HH',\n",
    "    'WDAY'\n",
    "]\n",
    "\n",
    "# Calculate the correlation matrix\n",
    "correlation_matrix = df[columns_of_interest].corr()\n",
    "\n",
    "# Create a larger figure for better readability\n",
    "plt.figure(figsize=(12, 10))\n",
    "\n",
    "# Create the correlogram using seaborn\n",
    "sns.heatmap(correlation_matrix, \n",
    "            annot=True,  # Show numeric values\n",
    "            cmap='RdBu',  # Use a blue-red colormap\n",
    "            vmin=-1, vmax=1,  # Set scale limits\n",
    "            center=0,  # Center the colormap on zero\n",
    "            fmt='.2f')  # Show two decimals\n",
    "\n",
    "# Rotate labels for better readability\n",
    "plt.xticks(rotation=45, ha='right')\n",
    "plt.yticks(rotation=0)\n",
    "\n",
    "# Add a title\n",
    "plt.title('Correlogram of Transport Variables', pad=20)\n",
    "\n",
    "# Adjust the layout\n",
    "plt.tight_layout()\n",
    "\n",
    "plt.show()"
   ]
  },
  {
   "cell_type": "markdown",
   "id": "5e7189bf-ba1c-4acd-884c-ebc689228abf",
   "metadata": {},
   "source": [
    "### Final dataset"
   ]
  },
  {
   "cell_type": "code",
   "execution_count": 19,
   "id": "240d69b6-112d-49a1-8dc9-06e1f17c664b",
   "metadata": {},
   "outputs": [
    {
     "data": {
      "image/png": "[encoded data removed]",
      "text/plain": [
       "<Figure size 1200x1000 with 2 Axes>"
      ]
     },
     "metadata": {},
     "output_type": "display_data"
    }
   ],
   "source": [
    "# Read the dataset\n",
    "df = pd.read_csv('final_delivery_data.csv')\n",
    "\n",
    "# Select only the numeric columns of interest\n",
    "columns_of_interest = [\n",
    "    'GROSS_WEIGHT_KG',\n",
    "    'NET_WEIGHT_KG',\n",
    "    'VOLUME_M3',\n",
    "    'DECLARED_DISTANCE_KM',\n",
    "    'DELIVERY_TIME_HH',\n",
    "    'WDAY'\n",
    "]\n",
    "\n",
    "# Calculate the correlation matrix\n",
    "correlation_matrix = df[columns_of_interest].corr()\n",
    "\n",
    "# Create a larger figure for better readability\n",
    "plt.figure(figsize=(12, 10))\n",
    "\n",
    "# Create the correlogram using seaborn\n",
    "sns.heatmap(correlation_matrix, \n",
    "            annot=True,  # Show numeric values\n",
    "            cmap='RdBu',  # Use a blue-red colormap\n",
    "            vmin=-1, vmax=1,  # Set scale limits\n",
    "            center=0,  # Center the colormap on zero\n",
    "            fmt='.2f')  # Show two decimals\n",
    "\n",
    "# Rotate labels for better readability\n",
    "plt.xticks(rotation=45, ha='right')\n",
    "plt.yticks(rotation=0)\n",
    "\n",
    "# Add a title\n",
    "plt.title('Correlogram of Transport Variables', pad=20)\n",
    "\n",
    "# Adjust the layout\n",
    "plt.tight_layout()\n",
    "\n",
    "plt.show()"
   ]
  },
  {
   "cell_type": "markdown",
   "id": "2bb01780-8f77-4d42-8bbc-8ee5fe8a9658",
   "metadata": {},
   "source": [
    "Based on these correlations matrices we can understand that the thing that varies the most the delivery time is the day they leave, the more you are towards the weekend, the longer the delivery time will be"
   ]
  },
  {
   "cell_type": "markdown",
   "id": "9c23c4bb-88ef-453d-9306-bee5722d7871",
   "metadata": {},
   "source": [
    "## Creation of average time histograms based on the day\n",
    "\n",
    "We create 3 graphs for each type of transport system to see if there is any data that may interest us"
   ]
  },
  {
   "cell_type": "markdown",
   "id": "02e8ce43-3fc1-4330-8e9d-f5346415a182",
   "metadata": {},
   "source": [
    "### Histogram Gomma"
   ]
  },
  {
   "cell_type": "code",
   "execution_count": 71,
   "id": "b777ddbc-36ff-4122-8c8f-46cf4de9f3b1",
   "metadata": {},
   "outputs": [
    {
     "data": {
      "image/png": "[encoded data removed]",
      "text/plain": [
       "<Figure size 1000x600 with 1 Axes>"
      ]
     },
     "metadata": {},
     "output_type": "display_data"
    }
   ],
   "source": [
    "# Load the dataset\n",
    "df_gomma = pd.read_csv('gomma_data.csv')\n",
    "\n",
    "# Calculate the average delivery time for each day of the week\n",
    "mean_delivery_time_gomma = df_gomma.groupby('WDAY')['DELIVERY_TIME_HH'].mean()\n",
    "\n",
    "# Create a DataFrame with all days of the week\n",
    "days_of_week = pd.DataFrame({'WDAY': range(7)})\n",
    "mean_delivery_time_gomma = mean_delivery_time_gomma.reset_index()\n",
    "mean_delivery_time_gomma = days_of_week.merge(mean_delivery_time_gomma, on='WDAY', how='left').fillna(0)\n",
    "\n",
    "# Create the histogram\n",
    "plt.figure(figsize=(10, 6))\n",
    "bars = plt.bar(mean_delivery_time_gomma['WDAY'], mean_delivery_time_gomma['DELIVERY_TIME_HH'], color='skyblue', edgecolor='black')\n",
    "plt.title('Average Travel Time by Day of the Week (Gomma)', fontsize=16)\n",
    "plt.xlabel('Day of the Week (0 = Monday)', fontsize=14)\n",
    "plt.ylabel('Average Travel Time (Hours)', fontsize=14)\n",
    "plt.xticks(range(7), ['Mon', 'Tue', 'Wed', 'Thu', 'Fri', 'Sat', 'Sun'], fontsize=12)\n",
    "plt.grid(axis='y', linestyle='--', alpha=0.7)\n",
    "\n",
    "# Add value labels above each bar\n",
    "for bar in bars:\n",
    "    yval = bar.get_height()\n",
    "    plt.text(bar.get_x() + bar.get_width()/2, yval, round(yval, 2), ha='center', va='bottom', fontsize=12)\n",
    "\n",
    "plt.tight_layout()\n",
    "plt.show()"
   ]
  },
  {
   "cell_type": "markdown",
   "id": "53c4af7f-3ccf-4617-bcd0-75c7be673b56",
   "metadata": {},
   "source": [
    "### Histogram Corrieri"
   ]
  },
  {
   "cell_type": "code",
   "execution_count": 72,
   "id": "ca238c2a-b634-4134-8e8c-a1596b41ba56",
   "metadata": {},
   "outputs": [
    {
     "data": {
      "image/png": "[encoded data removed]",
      "text/plain": [
       "<Figure size 1000x600 with 1 Axes>"
      ]
     },
     "metadata": {},
     "output_type": "display_data"
    }
   ],
   "source": [
    "# Load the dataset\n",
    "df_corrieri = pd.read_csv('corrieri_data.csv')\n",
    "\n",
    "# Calculate the average delivery time for each day of the week\n",
    "mean_delivery_time_corrieri = df_corrieri.groupby('WDAY')['DELIVERY_TIME_HH'].mean()\n",
    "\n",
    "# Create a DataFrame with all days of the week\n",
    "days_of_week = pd.DataFrame({'WDAY': range(7)})\n",
    "mean_delivery_time_corrieri = mean_delivery_time_corrieri.reset_index()\n",
    "mean_delivery_time_corrieri = days_of_week.merge(mean_delivery_time_corrieri, on='WDAY', how='left').fillna(0)\n",
    "\n",
    "# Create the histogram\n",
    "plt.figure(figsize=(10, 6))\n",
    "bars = plt.bar(mean_delivery_time_corrieri['WDAY'], mean_delivery_time_corrieri['DELIVERY_TIME_HH'], color='lightgreen', edgecolor='black')\n",
    "plt.title('Average Travel Time by Day of the Week (Couriers)', fontsize=16)\n",
    "plt.xlabel('Day of the Week (0 = Monday)', fontsize=14)\n",
    "plt.ylabel('Average Travel Time (Hours)', fontsize=14)\n",
    "plt.xticks(range(7), ['Mon', 'Tue', 'Wed', 'Thu', 'Fri', 'Sat', 'Sun'], fontsize=12)\n",
    "plt.grid(axis='y', linestyle='--', alpha=0.7)\n",
    "\n",
    "# Add value labels above each bar\n",
    "for bar in bars:\n",
    "    yval = bar.get_height()\n",
    "    plt.text(bar.get_x() + bar.get_width()/2, yval, round(yval, 2), ha='center', va='bottom', fontsize=12)\n",
    "\n",
    "plt.tight_layout()\n",
    "plt.show()"
   ]
  },
  {
   "cell_type": "markdown",
   "id": "04202b6f-2bf5-4f0d-a4ce-13dc1b868efc",
   "metadata": {},
   "source": [
    "### Histogram E-commerce"
   ]
  },
  {
   "cell_type": "code",
   "execution_count": 73,
   "id": "efe95b32-72f2-4a83-8763-9006ee29397a",
   "metadata": {},
   "outputs": [
    {
     "data": {
      "image/png": "[encoded data removed]",
      "text/plain": [
       "<Figure size 1000x600 with 1 Axes>"
      ]
     },
     "metadata": {},
     "output_type": "display_data"
    }
   ],
   "source": [
    "# Load the dataset\n",
    "df_ecommerce = pd.read_csv('ecommerce_data.csv')\n",
    "\n",
    "# Calculate the average delivery time for each day of the week\n",
    "mean_delivery_time_ecommerce = df_ecommerce.groupby('WDAY')['DELIVERY_TIME_HH'].mean()\n",
    "\n",
    "# Create a DataFrame with all days of the week\n",
    "days_of_week = pd.DataFrame({'WDAY': range(7)})\n",
    "mean_delivery_time_ecommerce = mean_delivery_time_ecommerce.reset_index()\n",
    "mean_delivery_time_ecommerce = days_of_week.merge(mean_delivery_time_ecommerce, on='WDAY', how='left').fillna(0)\n",
    "\n",
    "# Create the histogram\n",
    "plt.figure(figsize=(10, 6))\n",
    "bars = plt.bar(mean_delivery_time_ecommerce['WDAY'], mean_delivery_time_ecommerce['DELIVERY_TIME_HH'], color='salmon', edgecolor='black')\n",
    "plt.title('Average Travel Time by Day of the Week (Ecommerce)', fontsize=16)\n",
    "plt.xlabel('Day of the Week (0 = Monday)', fontsize=14)\n",
    "plt.ylabel('Average Travel Time (Hours)', fontsize=14)\n",
    "plt.xticks(range(7), ['Mon', 'Tue', 'Wed', 'Thu', 'Fri', 'Sat', 'Sun'], fontsize=12)\n",
    "plt.grid(axis='y', linestyle='--', alpha=0.7)\n",
    "\n",
    "# Add value labels above each bar\n",
    "for bar in bars:\n",
    "    yval = bar.get_height()\n",
    "    plt.text(bar.get_x() + bar.get_width()/2, yval, round(yval, 2), ha='center', va='bottom', fontsize=12)\n",
    "\n",
    "plt.tight_layout()\n",
    "plt.show()"
   ]
  },
  {
   "cell_type": "markdown",
   "id": "6782d7f9-f93c-43a9-a8b3-5ad2f7cc4bfe",
   "metadata": {},
   "source": [
    "Analyzing these data we can understand that, in case the service is Via gomma or Corriere espresso, do not accept packages during the weekend. These data can be used to create the prediction algorithm."
   ]
  },
  {
   "cell_type": "markdown",
   "id": "54bccfbd-e854-4fa9-9726-5dcaa6855d40",
   "metadata": {},
   "source": [
    "## We divide the final file into 3 according to where the orders start and arrive"
   ]
  },
  {
   "cell_type": "code",
   "execution_count": 20,
   "id": "5c64ddc2-2feb-4aeb-998e-7b553d3c3b00",
   "metadata": {},
   "outputs": [
    {
     "name": "stdout",
     "output_type": "stream",
     "text": [
      "IT-IT deliveries: 11755\n",
      "US-US deliveries: 2225\n",
      "Mixed deliveries: 574\n"
     ]
    }
   ],
   "source": [
    "def split_csv(input_file):\n",
    "    # Read the CSV file\n",
    "    df = pd.read_csv(input_file)\n",
    "    \n",
    "    # Filter for IT-IT deliveries\n",
    "    it_it = df[(df['DEPARTURE_COUNTRY'] == 'IT') & (df['ARRIVAL_COUNTRY'] == 'IT')]\n",
    "    it_it.to_csv('final_delivery_data_it_it.csv', index=False)\n",
    "    \n",
    "    # Filter for US-US deliveries\n",
    "    us_us = df[(df['DEPARTURE_COUNTRY'] == 'US') & (df['ARRIVAL_COUNTRY'] == 'US')]\n",
    "    us_us.to_csv('final_delivery_data_us_us.csv', index=False)\n",
    "    \n",
    "    # Filter for mixed IT-US or US-IT deliveries\n",
    "    mixed = df[\n",
    "        ((df['DEPARTURE_COUNTRY'] == 'IT') & (df['ARRIVAL_COUNTRY'] == 'US')) |\n",
    "        ((df['DEPARTURE_COUNTRY'] == 'US') & (df['ARRIVAL_COUNTRY'] == 'IT'))\n",
    "    ]\n",
    "    mixed.to_csv('final_delivery_data_mixed.csv', index=False)\n",
    "    \n",
    "    # Print summary\n",
    "    print(f\"IT-IT deliveries: {len(it_it)}\")\n",
    "    print(f\"US-US deliveries: {len(us_us)}\")\n",
    "    print(f\"Mixed deliveries: {len(mixed)}\")\n",
    "\n",
    "# Run the splitting\n",
    "split_csv('final_delivery_data.csv')"
   ]
  },
  {
   "cell_type": "markdown",
   "id": "f92f5309-1073-433d-991a-2ae8b0cc80c2",
   "metadata": {},
   "source": [
    "## Creation of the travel map"
   ]
  },
  {
   "cell_type": "code",
   "execution_count": 22,
   "id": "22e05928-9c76-4586-a354-bc6263a42fbf",
   "metadata": {},
   "outputs": [
    {
     "name": "stderr",
     "output_type": "stream",
     "text": [
      "Processing final_delivery_data_it_it.csv: 100%|██████████| 50/50 [02:09<00:00,  2.59s/it]\n",
      "Adding Routes: 100%|██████████| 50/50 [00:00<00:00, 46644.84it/s]\n",
      "Adding Markers: 100%|██████████| 36/36 [00:00<00:00, 18450.02it/s]\n"
     ]
    },
    {
     "name": "stdout",
     "output_type": "stream",
     "text": [
      "Sample map successfully created: final_delivery_data_it_it_sample.html\n"
     ]
    },
    {
     "name": "stderr",
     "output_type": "stream",
     "text": [
      "Processing final_delivery_data_us_us.csv: 100%|██████████| 50/50 [02:13<00:00,  2.68s/it]\n",
      "Adding Routes: 100%|██████████| 50/50 [00:00<00:00, 53052.16it/s]\n",
      "Adding Markers: 100%|██████████| 59/59 [00:00<00:00, 8544.73it/s]\n"
     ]
    },
    {
     "name": "stdout",
     "output_type": "stream",
     "text": [
      "Sample map successfully created: final_delivery_data_us_us_sample.html\n"
     ]
    },
    {
     "name": "stderr",
     "output_type": "stream",
     "text": [
      "Processing final_delivery_data_mixed.csv: 100%|██████████| 50/50 [02:13<00:00,  2.66s/it]\n",
      "Adding Routes: 100%|██████████| 50/50 [00:00<00:00, 47814.68it/s]\n",
      "Adding Markers: 100%|██████████| 49/49 [00:00<00:00, 25530.55it/s]"
     ]
    },
    {
     "name": "stdout",
     "output_type": "stream",
     "text": [
      "Sample map successfully created: final_delivery_data_mixed_sample.html\n"
     ]
    },
    {
     "name": "stderr",
     "output_type": "stream",
     "text": [
      "\n"
     ]
    }
   ],
   "source": [
    "def get_zipcode_coordinates(zipcode: str, country: str) -> Optional[Tuple[float, float]]:\n",
    "    try:\n",
    "        geolocator = Nominatim(user_agent=\"delivery_route_mapper\")\n",
    "        location = geolocator.geocode(f\"{zipcode}, {country}\")\n",
    "        \n",
    "        if location:\n",
    "            return (location.latitude, location.longitude)\n",
    "        return None\n",
    "    except Exception as e:\n",
    "        print(f\"Error getting coordinates for {zipcode}, {country}: {str(e)}\")\n",
    "        return None\n",
    "\n",
    "def disegnaMappa(nomeFilecsv: str):\n",
    "    try:\n",
    "        # Read only first 50 rows\n",
    "        dataSet = pd.read_csv(nomeFilecsv, nrows=50)\n",
    "        viaggi = []\n",
    "        citta = {}\n",
    "        \n",
    "        # Progress bar for geocoding\n",
    "        for _, row in tqdm(dataSet.iterrows(), total=dataSet.shape[0], desc=f\"Processing {nomeFilecsv}\"):\n",
    "            partenza = get_zipcode_coordinates(str(row[\"DEPARTURE_ZIPCODE\"]), row[\"DEPARTURE_COUNTRY\"])\n",
    "            arrivo = get_zipcode_coordinates(str(row[\"ARRIVAL_ZIPCODE\"]), row[\"ARRIVAL_COUNTRY\"])\n",
    "            \n",
    "            if arrivo is not None and partenza is not None:\n",
    "                tratta = [partenza, arrivo]\n",
    "                viaggi.append(tratta)\n",
    "                citta[str(row[\"DEPARTURE_ZIPCODE\"])] = partenza\n",
    "                citta[str(row[\"ARRIVAL_ZIPCODE\"])] = arrivo\n",
    "            \n",
    "            time.sleep(1)  # Prevent overwhelming the geocoding service\n",
    "        \n",
    "        # Create map\n",
    "        mappa = folium.Map(location=[45, 10], zoom_start=4)\n",
    "        \n",
    "        # Add routes\n",
    "        for viaggio in tqdm(viaggi, desc=\"Adding Routes\"):\n",
    "            folium.PolyLine(viaggio, color=\"blue\", weight=2, opacity=0.7).add_to(mappa)\n",
    "        \n",
    "        # Add markers\n",
    "        for nome, coord in tqdm(citta.items(), desc=\"Adding Markers\"):\n",
    "            folium.Marker(coord, popup=nome, icon=folium.Icon(color=\"red\")).add_to(mappa)\n",
    "        \n",
    "        # Save map in current directory\n",
    "        output_name = os.path.splitext(nomeFilecsv)[0] + '_sample.html'\n",
    "        mappa.save(output_name)\n",
    "        print(f\"Sample map successfully created: {output_name}\")\n",
    "        return True\n",
    "    \n",
    "    except Exception as e:\n",
    "        print(f\"Error processing {nomeFilecsv}: {e}\")\n",
    "        return False\n",
    "\n",
    "def main():\n",
    "    files = [\n",
    "        'final_delivery_data_it_it.csv',\n",
    "        'final_delivery_data_us_us.csv', \n",
    "        'final_delivery_data_mixed.csv'\n",
    "    ]\n",
    "\n",
    "    for file in files:\n",
    "        if os.path.exists(file):\n",
    "            disegnaMappa(file)\n",
    "        else:\n",
    "            print(f\"File not found: {file}\")\n",
    "\n",
    "if __name__ == \"__main__\":\n",
    "    main()"
   ]
  },
  {
   "cell_type": "markdown",
   "id": "c061f9d5-9820-4879-a181-eacaae73cd1f",
   "metadata": {},
   "source": [
    "## Finally we create a code to predict the distance in km and delivery time"
   ]
  },
  {
   "cell_type": "code",
   "execution_count": 53,
   "id": "a009274d-8c90-463b-8701-6dbacad9b7be",
   "metadata": {},
   "outputs": [
    {
     "name": "stdout",
     "output_type": "stream",
     "text": [
      "Distance model accuracy: 100.00%\n",
      "Time model accuracy: 55.95%\n",
      "\n",
      "Prediction:\n",
      "Predicted Distance Km: 427.3\n",
      "Predicted Hours: 144\n",
      "Total Work Hours: 31.0\n",
      "Total Work Days: 4\n",
      "Predicted Arrival Date: 2023-01-16\n",
      "Weekend Adjusted: True\n"
     ]
    }
   ],
   "source": [
    "# Required imports\n",
    "import pandas as pd\n",
    "import numpy as np\n",
    "from datetime import datetime, timedelta\n",
    "from sklearn.preprocessing import LabelEncoder, RobustScaler\n",
    "from sklearn.model_selection import train_test_split\n",
    "from sklearn.impute import SimpleImputer\n",
    "from sklearn.ensemble import GradientBoostingRegressor\n",
    "from sklearn.metrics import r2_score\n",
    "\n",
    "class DeliveryPredictor:\n",
    "    def __init__(self):\n",
    "        self.le_service = LabelEncoder()\n",
    "        self.le_vehicle = LabelEncoder()\n",
    "        self.le_dep_country = LabelEncoder()\n",
    "        self.le_arr_country = LabelEncoder()\n",
    "        self.le_dep_zip = LabelEncoder()\n",
    "        self.le_arr_zip = LabelEncoder()\n",
    "        self.scaler = RobustScaler()\n",
    "        self.imputer = SimpleImputer(strategy='median')\n",
    "        self.distance_model = GradientBoostingRegressor(\n",
    "            n_estimators=200,\n",
    "            learning_rate=0.1,\n",
    "            max_depth=5,\n",
    "            random_state=42\n",
    "        )\n",
    "        self.time_model = GradientBoostingRegressor(\n",
    "            n_estimators=200,\n",
    "            learning_rate=0.1,\n",
    "            max_depth=5,\n",
    "            random_state=42\n",
    "        )\n",
    "        self.unique_values = {}\n",
    "        \n",
    "    def prepare_data(self, df):\n",
    "        df = df.copy()\n",
    "        \n",
    "        # Clean zip codes\n",
    "        df['DEPARTURE_ZIPCODE'] = df['DEPARTURE_ZIPCODE'].fillna('00000')\n",
    "        df['ARRIVAL_ZIPCODE'] = df['ARRIVAL_ZIPCODE'].fillna('00000')\n",
    "        df['DEPARTURE_ZIPCODE'] = df['DEPARTURE_ZIPCODE'].astype(str).str.replace('.0', '').str.zfill(5)\n",
    "        df['ARRIVAL_ZIPCODE'] = df['ARRIVAL_ZIPCODE'].astype(str).str.replace('.0', '').str.zfill(5)\n",
    "        \n",
    "        # Remove rows with NaN in critical columns\n",
    "        critical_columns = ['DELIVERY_TIME_HH', 'DECLARED_DISTANCE_KM', 'SERVICETYPE', 'VEHICLETYPE', \n",
    "                            'DEPARTURE_COUNTRY', 'ARRIVAL_COUNTRY', 'WDAY']\n",
    "        df.dropna(subset=critical_columns, inplace=True)\n",
    "        \n",
    "        # Remove outliers from delivery time\n",
    "        q1 = df['DELIVERY_TIME_HH'].quantile(0.25)\n",
    "        q3 = df['DELIVERY_TIME_HH'].quantile(0.75)\n",
    "        iqr = q3 - q1\n",
    "        df = df[\n",
    "            (df['DELIVERY_TIME_HH'] >= q1 - 1.5 * iqr) & \n",
    "            (df['DELIVERY_TIME_HH'] <= q3 + 1.5 * iqr)\n",
    "        ]\n",
    "        \n",
    "        # Add derived features\n",
    "        df['SAME_COUNTRY'] = (df['DEPARTURE_COUNTRY'] == df['ARRIVAL_COUNTRY']).astype(int)\n",
    "        \n",
    "        # Encode categorical variables\n",
    "        df['SERVICETYPE_encoded'] = self.le_service.fit_transform(df['SERVICETYPE'])\n",
    "        df['VEHICLETYPE_encoded'] = self.le_vehicle.fit_transform(df['VEHICLETYPE'])\n",
    "        df['DEPARTURE_COUNTRY_encoded'] = self.le_dep_country.fit_transform(df['DEPARTURE_COUNTRY'])\n",
    "        df['ARRIVAL_COUNTRY_encoded'] = self.le_arr_country.fit_transform(df['ARRIVAL_COUNTRY'])\n",
    "        df['DEPARTURE_ZIPCODE_encoded'] = self.le_dep_zip.fit_transform(df['DEPARTURE_ZIPCODE'])\n",
    "        df['ARRIVAL_ZIPCODE_encoded'] = self.le_arr_zip.fit_transform(df['ARRIVAL_ZIPCODE'])\n",
    "        \n",
    "        # Store unique values\n",
    "        self.unique_values = {\n",
    "            'service_types': df['SERVICETYPE'].unique(),\n",
    "            'vehicle_types': df['VEHICLETYPE'].unique(),\n",
    "            'departure_countries': df['DEPARTURE_COUNTRY'].unique(),\n",
    "            'arrival_countries': df['ARRIVAL_COUNTRY'].unique(),\n",
    "            'departure_zipcodes': df['DEPARTURE_ZIPCODE'].unique(),\n",
    "            'arrival_zipcodes': df['ARRIVAL_ZIPCODE'].unique()\n",
    "        }\n",
    "        \n",
    "        # Prepare features\n",
    "        features = [\n",
    "            'SERVICETYPE_encoded', 'VEHICLETYPE_encoded', \n",
    "            'DEPARTURE_COUNTRY_encoded', 'ARRIVAL_COUNTRY_encoded',\n",
    "            'DEPARTURE_ZIPCODE_encoded', 'ARRIVAL_ZIPCODE_encoded', \n",
    "            'WDAY', 'SAME_COUNTRY'\n",
    "        ]\n",
    "        \n",
    "        # Add DISTANCE_ENCODED\n",
    "        if 'DECLARED_DISTANCE_KM' in df.columns:\n",
    "            df['DISTANCE_ENCODED'] = self.scaler.fit_transform(df[['DECLARED_DISTANCE_KM']])\n",
    "        else:\n",
    "            df['DISTANCE_ENCODED'] = 0\n",
    "        \n",
    "        features.append('DISTANCE_ENCODED')\n",
    "        \n",
    "        # Prepare X with imputation\n",
    "        X = df[features].values\n",
    "        X = self.imputer.fit_transform(X)  # Impute missing values\n",
    "        X = self.scaler.fit_transform(X)\n",
    "        \n",
    "        return X, df\n",
    "\n",
    "    def train(self, data_path):\n",
    "        # Load data\n",
    "        df = pd.read_csv(data_path)\n",
    "        \n",
    "        # Prepare features and targets\n",
    "        X, df_cleaned = self.prepare_data(df)\n",
    "        y_distance = df_cleaned['DECLARED_DISTANCE_KM'].values\n",
    "        y_time = df_cleaned['DELIVERY_TIME_HH'].values\n",
    "        \n",
    "        # Normalize delivery time\n",
    "        y_time = np.minimum(y_time, 72)\n",
    "        \n",
    "        # Split data\n",
    "        X_train, X_test, y_dist_train, y_dist_test, y_time_train, y_time_test = train_test_split(\n",
    "            X, y_distance, y_time, test_size=0.2, random_state=42\n",
    "        )\n",
    "        \n",
    "        # Train models\n",
    "        self.distance_model.fit(X_train, y_dist_train)\n",
    "        self.time_model.fit(X_train, y_time_train)\n",
    "        \n",
    "        # Calculate accuracy\n",
    "        dist_accuracy = r2_score(y_dist_test, self.distance_model.predict(X_test))\n",
    "        time_accuracy = r2_score(y_time_test, self.time_model.predict(X_test))\n",
    "        \n",
    "        return dist_accuracy, time_accuracy\n",
    "\n",
    "    def custom_round(self, number):\n",
    "        \"\"\"Custom rounding function based on decimal part\"\"\"\n",
    "        decimal_part = number % 1\n",
    "        if decimal_part >= 0.5:\n",
    "            return np.ceil(number)\n",
    "        return np.floor(number)\n",
    "    \n",
    "    def predict(self, service_type, vehicle_type, departure_country, arrival_country,\n",
    "                departure_zipcode, arrival_zipcode, departure_date):\n",
    "        # Convert departure_date to weekday\n",
    "        departure_dt = datetime.strptime(departure_date, '%Y-%m-%d')\n",
    "        wday = departure_dt.weekday()\n",
    "        \n",
    "        # Convert zip codes to strings with leading zeros\n",
    "        departure_zipcode = str(departure_zipcode).replace('.0', '').zfill(5)\n",
    "        arrival_zipcode = str(arrival_zipcode).replace('.0', '').zfill(5)\n",
    "        \n",
    "        # Calculate same country feature\n",
    "        same_country = 1 if departure_country == arrival_country else 0\n",
    "        \n",
    "        # Prepare input data\n",
    "        input_data = np.array([[\n",
    "            self.le_service.transform([service_type])[0],\n",
    "            self.le_vehicle.transform([vehicle_type])[0],\n",
    "            self.le_dep_country.transform([departure_country])[0],\n",
    "            self.le_arr_country.transform([arrival_country])[0],\n",
    "            self.le_dep_zip.transform([departure_zipcode])[0],\n",
    "            self.le_arr_zip.transform([arrival_zipcode])[0],\n",
    "            wday,\n",
    "            same_country,\n",
    "            0  # Default DISTANCE_ENCODED\n",
    "        ]])\n",
    "        \n",
    "        input_scaled = self.scaler.transform(input_data)\n",
    "        \n",
    "        # Make predictions\n",
    "        predicted_distance = self.distance_model.predict(input_scaled)[0]\n",
    "        model_predicted_hours = self.time_model.predict(input_scaled)[0]\n",
    "        \n",
    "        # Limit predicted hours from model\n",
    "        model_predicted_hours = min(model_predicted_hours, 72)\n",
    "        # Apply custom rounding to model_predicted_hours\n",
    "        model_predicted_hours = self.custom_round(model_predicted_hours)\n",
    "        \n",
    "        # Calculate workdays and arrival date based on model_predicted_hours\n",
    "        work_hours_per_day = 8\n",
    "        total_workdays = int(np.ceil(model_predicted_hours / work_hours_per_day))\n",
    "        \n",
    "        # Calculate arrival date considering weekends\n",
    "        arrival_date = departure_dt\n",
    "        actual_workdays = 0\n",
    "        \n",
    "        while actual_workdays < total_workdays:\n",
    "            arrival_date += timedelta(days=1)\n",
    "            # Only count weekdays\n",
    "            if arrival_date.weekday() < 7:  # Monday = 0, Friday = 4\n",
    "                actual_workdays += 1\n",
    "        \n",
    "        # Adjust arrival date for weekend only for non-E-commerce services\n",
    "        if service_type not in [\"E-commerce\", \"E-commerce resi\"]:\n",
    "            arrival_weekday = arrival_date.weekday()\n",
    "            if arrival_weekday == 5:  # Saturday\n",
    "                arrival_date += timedelta(days=2)  # Move to Monday\n",
    "            elif arrival_weekday == 6:  # Sunday\n",
    "                arrival_date += timedelta(days=1)  # Move to Monday\n",
    "\n",
    "        # Calculate actual hours between dates\n",
    "        total_days = (arrival_date - departure_dt).days\n",
    "        predicted_hours = total_days * 24  # Convert days to hours\n",
    "        \n",
    "        return {\n",
    "            'predicted_distance_km': round(predicted_distance, 2),\n",
    "            'predicted_hours': predicted_hours,\n",
    "            'total_work_hours': model_predicted_hours,  # Using the rounded model prediction\n",
    "            'total_work_days': total_workdays,\n",
    "            'predicted_arrival_date': arrival_date.strftime('%Y-%m-%d'),\n",
    "            'weekend_adjusted': arrival_date.weekday() == 0 and departure_dt.weekday() < 5\n",
    "        }\n",
    "\n",
    "def main():\n",
    "    predictor = DeliveryPredictor()\n",
    "    # Training\n",
    "    try:\n",
    "        dist_acc, time_acc = predictor.train(\"final_delivery_data.csv\")\n",
    "        print(f\"Distance model accuracy: {dist_acc*100:.2f}%\")\n",
    "        print(f\"Time model accuracy: {time_acc*100:.2f}%\")\n",
    "        \n",
    "        # Example prediction\n",
    "        prediction = predictor.predict(\n",
    "            service_type=\"Corriere espresso\",\n",
    "            vehicle_type=\"Express\",\n",
    "            departure_country=\"IT\",\n",
    "            arrival_country=\"IT\",\n",
    "            departure_zipcode=\"62010\",\n",
    "            arrival_zipcode=\"22100\",\n",
    "            departure_date=\"2023-01-10\"\n",
    "        )\n",
    "        \n",
    "        print(\"\\nPrediction:\")\n",
    "        for key, value in prediction.items():\n",
    "            print(f\"{key.replace('_', ' ').title()}: {value}\")\n",
    "    \n",
    "    except FileNotFoundError:\n",
    "        print(\"Error: 'final_delivery_data.csv' not found. Please ensure the data file exists.\")\n",
    "    except Exception as e:\n",
    "        print(f\"An error occurred: {e}\")\n",
    "\n",
    "if __name__ == \"__main__\":\n",
    "    main()"
   ]
  },
  {
   "cell_type": "code",
   "execution_count": null,
   "id": "44bfff49-4cde-402d-abe7-c41a83ce6392",
   "metadata": {},
   "outputs": [],
   "source": []
  }
 ],
 "metadata": {
  "kernelspec": {
   "display_name": "Python 3 (ipykernel)",
   "language": "python",
   "name": "python3"
  },
  "language_info": {
   "codemirror_mode": {
    "name": "ipython",
    "version": 3
   },
   "file_extension": ".py",
   "mimetype": "text/x-python",
   "name": "python",
   "nbconvert_exporter": "python",
   "pygments_lexer": "ipython3",
   "version": "3.12.3"
  }
 },
 "nbformat": 4,
 "nbformat_minor": 5
}
